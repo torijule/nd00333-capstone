{
 "cells": [
  {
   "cell_type": "markdown",
   "metadata": {},
   "source": [
    "# Automated ML\n",
    "\n",
    "TODO: Import Dependencies. In the cell below, import all the dependencies that you will need to complete the project.\n",
    "Other assumptions include, running Python3.8 kernal and downloading config.json file into current folder."
   ]
  },
  {
   "cell_type": "code",
   "execution_count": 1,
   "metadata": {
    "collapsed": false,
    "gather": {
     "logged": 1707024118046
    },
    "jupyter": {
     "outputs_hidden": false,
     "source_hidden": false
    },
    "nteract": {
     "transient": {
      "deleting": false
     }
    }
   },
   "outputs": [],
   "source": [
    "from azureml.core import Workspace, Experiment, Dataset\n",
    "from azureml.core.compute import ComputeTarget, AmlCompute\n",
    "import pandas as pd\n",
    "from matplotlib import pyplot as plt\n",
    "from azureml.train.automl import AutoMLConfig\n",
    "from azureml.widgets import RunDetails\n",
    "\n",
    "from azureml.core.model import InferenceConfig\n",
    "from azureml.core.webservice import AciWebservice\n",
    "from azureml.core.model import Model\n"
   ]
  },
  {
   "cell_type": "markdown",
   "metadata": {},
   "source": [
    "## Dataset\n",
    "\n",
    "### Overview\n",
    "TODO: In this markdown cell, give an overview of the dataset you are using. Also mention the task you will be performing.\n",
    "\n",
    "\n",
    "TODO: Get data. In the cell below, write code to access the data you will be using in this project. Remember that the dataset needs to be external."
   ]
  },
  {
   "cell_type": "markdown",
   "metadata": {
    "nteract": {
     "transient": {
      "deleting": false
     }
    }
   },
   "source": [
    "##### Setting up the dataset"
   ]
  },
  {
   "cell_type": "code",
   "execution_count": 2,
   "metadata": {
    "collapsed": false,
    "gather": {
     "logged": 1707023697233
    },
    "jupyter": {
     "outputs_hidden": false,
     "source_hidden": false
    },
    "nteract": {
     "transient": {
      "deleting": false
     }
    }
   },
   "outputs": [
    {
     "data": {
      "text/html": [
       "<div>\n",
       "<style scoped>\n",
       "    .dataframe tbody tr th:only-of-type {\n",
       "        vertical-align: middle;\n",
       "    }\n",
       "\n",
       "    .dataframe tbody tr th {\n",
       "        vertical-align: top;\n",
       "    }\n",
       "\n",
       "    .dataframe thead th {\n",
       "        text-align: right;\n",
       "    }\n",
       "</style>\n",
       "<table border=\"1\" class=\"dataframe\">\n",
       "  <thead>\n",
       "    <tr style=\"text-align: right;\">\n",
       "      <th></th>\n",
       "      <th>X</th>\n",
       "      <th>Y</th>\n",
       "      <th>id</th>\n",
       "      <th>lat</th>\n",
       "      <th>long</th>\n",
       "      <th>type</th>\n",
       "      <th>site</th>\n",
       "      <th>code</th>\n",
       "      <th>name</th>\n",
       "    </tr>\n",
       "  </thead>\n",
       "  <tbody>\n",
       "    <tr>\n",
       "      <th>0</th>\n",
       "      <td>-0.580500</td>\n",
       "      <td>44.840439</td>\n",
       "      <td>7326</td>\n",
       "      <td>-0.580500</td>\n",
       "      <td>44.840439</td>\n",
       "      <td>Oberaden 74</td>\n",
       "      <td>Bordeaux</td>\n",
       "      <td>PHILODAMVS</td>\n",
       "      <td>Aquitania</td>\n",
       "    </tr>\n",
       "    <tr>\n",
       "      <th>1</th>\n",
       "      <td>2.174100</td>\n",
       "      <td>41.398371</td>\n",
       "      <td>33256</td>\n",
       "      <td>2.174100</td>\n",
       "      <td>41.398371</td>\n",
       "      <td>Dressel 2-4 Catalan</td>\n",
       "      <td>Barcelona</td>\n",
       "      <td>O</td>\n",
       "      <td>Tarraconensis</td>\n",
       "    </tr>\n",
       "    <tr>\n",
       "      <th>2</th>\n",
       "      <td>4.032143</td>\n",
       "      <td>46.926780</td>\n",
       "      <td>20958</td>\n",
       "      <td>4.032143</td>\n",
       "      <td>46.926780</td>\n",
       "      <td>Dressel 1</td>\n",
       "      <td>Mont-Beuvray</td>\n",
       "      <td>SIN</td>\n",
       "      <td>Lugdunensis</td>\n",
       "    </tr>\n",
       "    <tr>\n",
       "      <th>3</th>\n",
       "      <td>-3.983333</td>\n",
       "      <td>55.950000</td>\n",
       "      <td>16637</td>\n",
       "      <td>-3.983333</td>\n",
       "      <td>55.950000</td>\n",
       "      <td>Dressel 20</td>\n",
       "      <td>Cumbernauld</td>\n",
       "      <td>PQ</td>\n",
       "      <td>Caledonia</td>\n",
       "    </tr>\n",
       "    <tr>\n",
       "      <th>4</th>\n",
       "      <td>11.883333</td>\n",
       "      <td>45.416667</td>\n",
       "      <td>33025</td>\n",
       "      <td>11.883333</td>\n",
       "      <td>45.416667</td>\n",
       "      <td>Dressel 6B</td>\n",
       "      <td>Padova</td>\n",
       "      <td>LAEK</td>\n",
       "      <td>Italia</td>\n",
       "    </tr>\n",
       "  </tbody>\n",
       "</table>\n",
       "</div>"
      ],
      "text/plain": [
       "           X          Y     id        lat       long                 type  \\\n",
       "0  -0.580500  44.840439   7326  -0.580500  44.840439          Oberaden 74   \n",
       "1   2.174100  41.398371  33256   2.174100  41.398371  Dressel 2-4 Catalan   \n",
       "2   4.032143  46.926780  20958   4.032143  46.926780            Dressel 1   \n",
       "3  -3.983333  55.950000  16637  -3.983333  55.950000           Dressel 20   \n",
       "4  11.883333  45.416667  33025  11.883333  45.416667           Dressel 6B   \n",
       "\n",
       "           site        code           name  \n",
       "0      Bordeaux  PHILODAMVS      Aquitania  \n",
       "1     Barcelona           O  Tarraconensis  \n",
       "2  Mont-Beuvray         SIN    Lugdunensis  \n",
       "3   Cumbernauld          PQ      Caledonia  \n",
       "4        Padova        LAEK         Italia  "
      ]
     },
     "execution_count": 2,
     "metadata": {},
     "output_type": "execute_result"
    }
   ],
   "source": [
    "datasource = \"https://raw.githubusercontent.com/xrubio/ecologyStamps/master/data/stamps.csv\"\n",
    "\n",
    "data = pd.read_csv(datasource, sep=';')\n",
    "data.head(5)"
   ]
  },
  {
   "cell_type": "markdown",
   "metadata": {
    "nteract": {
     "transient": {
      "deleting": false
     }
    }
   },
   "source": [
    "From viewing the first few lines of data, I notice that columns X and y are redundant with lat and long.  Additionally 'name' denotes the name of a Roman province, which would be more clear by renaming the column to 'province.'  Finally, I will filter the dataset to only include Dressel-20 vessels. \n",
    "TODO reason "
   ]
  },
  {
   "cell_type": "code",
   "execution_count": 3,
   "metadata": {
    "collapsed": false,
    "gather": {
     "logged": 1707023697897
    },
    "jupyter": {
     "outputs_hidden": false,
     "source_hidden": false
    },
    "nteract": {
     "transient": {
      "deleting": false
     }
    }
   },
   "outputs": [
    {
     "data": {
      "text/html": [
       "<div>\n",
       "<style scoped>\n",
       "    .dataframe tbody tr th:only-of-type {\n",
       "        vertical-align: middle;\n",
       "    }\n",
       "\n",
       "    .dataframe tbody tr th {\n",
       "        vertical-align: top;\n",
       "    }\n",
       "\n",
       "    .dataframe thead th {\n",
       "        text-align: right;\n",
       "    }\n",
       "</style>\n",
       "<table border=\"1\" class=\"dataframe\">\n",
       "  <thead>\n",
       "    <tr style=\"text-align: right;\">\n",
       "      <th></th>\n",
       "      <th>id</th>\n",
       "      <th>lat</th>\n",
       "      <th>long</th>\n",
       "      <th>site</th>\n",
       "      <th>code</th>\n",
       "      <th>province</th>\n",
       "    </tr>\n",
       "  </thead>\n",
       "  <tbody>\n",
       "    <tr>\n",
       "      <th>3</th>\n",
       "      <td>16637</td>\n",
       "      <td>-3.983333</td>\n",
       "      <td>55.950000</td>\n",
       "      <td>Cumbernauld</td>\n",
       "      <td>PQ</td>\n",
       "      <td>Caledonia</td>\n",
       "    </tr>\n",
       "    <tr>\n",
       "      <th>5</th>\n",
       "      <td>16590</td>\n",
       "      <td>-1.983333</td>\n",
       "      <td>51.733333</td>\n",
       "      <td>Cirencester</td>\n",
       "      <td>CPCAMO</td>\n",
       "      <td>Britannia</td>\n",
       "    </tr>\n",
       "    <tr>\n",
       "      <th>8</th>\n",
       "      <td>39655</td>\n",
       "      <td>4.860743</td>\n",
       "      <td>45.531592</td>\n",
       "      <td>Saint-Romain-en-Gal</td>\n",
       "      <td>CSEMPRONIPOLYCLITI</td>\n",
       "      <td>Narbonensis</td>\n",
       "    </tr>\n",
       "    <tr>\n",
       "      <th>11</th>\n",
       "      <td>8764</td>\n",
       "      <td>6.807625</td>\n",
       "      <td>47.449211</td>\n",
       "      <td>Mandeure</td>\n",
       "      <td>EVRI</td>\n",
       "      <td>Germania Superior</td>\n",
       "    </tr>\n",
       "    <tr>\n",
       "      <th>14</th>\n",
       "      <td>27985</td>\n",
       "      <td>8.645835</td>\n",
       "      <td>50.159548</td>\n",
       "      <td>Nida-Heddernheim</td>\n",
       "      <td>LIVNIMELISSI</td>\n",
       "      <td>Germania Superior</td>\n",
       "    </tr>\n",
       "    <tr>\n",
       "      <th>15</th>\n",
       "      <td>27413</td>\n",
       "      <td>8.846132</td>\n",
       "      <td>49.897382</td>\n",
       "      <td>Dieburg</td>\n",
       "      <td>ACIRGI</td>\n",
       "      <td>Germania Superior</td>\n",
       "    </tr>\n",
       "    <tr>\n",
       "      <th>18</th>\n",
       "      <td>28359</td>\n",
       "      <td>-5.020370</td>\n",
       "      <td>37.810702</td>\n",
       "      <td>Almodóvar del Río</td>\n",
       "      <td>LIBERALINI</td>\n",
       "      <td>Baetica</td>\n",
       "    </tr>\n",
       "    <tr>\n",
       "      <th>19</th>\n",
       "      <td>39634</td>\n",
       "      <td>4.873453</td>\n",
       "      <td>45.524785</td>\n",
       "      <td>Vienne</td>\n",
       "      <td>CSP</td>\n",
       "      <td>Narbonensis</td>\n",
       "    </tr>\n",
       "    <tr>\n",
       "      <th>21</th>\n",
       "      <td>14260</td>\n",
       "      <td>6.685037</td>\n",
       "      <td>51.198071</td>\n",
       "      <td>Neuss</td>\n",
       "      <td>ENNIORVMIVLIORVM</td>\n",
       "      <td>Germania Inferior</td>\n",
       "    </tr>\n",
       "    <tr>\n",
       "      <th>29</th>\n",
       "      <td>15497</td>\n",
       "      <td>1.333333</td>\n",
       "      <td>51.283333</td>\n",
       "      <td>Edinburgh</td>\n",
       "      <td>ACIRGI</td>\n",
       "      <td>Britannia</td>\n",
       "    </tr>\n",
       "  </tbody>\n",
       "</table>\n",
       "</div>"
      ],
      "text/plain": [
       "       id       lat       long                 site                code  \\\n",
       "3   16637 -3.983333  55.950000          Cumbernauld                  PQ   \n",
       "5   16590 -1.983333  51.733333          Cirencester              CPCAMO   \n",
       "8   39655  4.860743  45.531592  Saint-Romain-en-Gal  CSEMPRONIPOLYCLITI   \n",
       "11   8764  6.807625  47.449211             Mandeure                EVRI   \n",
       "14  27985  8.645835  50.159548     Nida-Heddernheim        LIVNIMELISSI   \n",
       "15  27413  8.846132  49.897382              Dieburg              ACIRGI   \n",
       "18  28359 -5.020370  37.810702    Almodóvar del Río          LIBERALINI   \n",
       "19  39634  4.873453  45.524785               Vienne                 CSP   \n",
       "21  14260  6.685037  51.198071                Neuss    ENNIORVMIVLIORVM   \n",
       "29  15497  1.333333  51.283333            Edinburgh              ACIRGI   \n",
       "\n",
       "             province  \n",
       "3           Caledonia  \n",
       "5           Britannia  \n",
       "8         Narbonensis  \n",
       "11  Germania Superior  \n",
       "14  Germania Superior  \n",
       "15  Germania Superior  \n",
       "18            Baetica  \n",
       "19        Narbonensis  \n",
       "21  Germania Inferior  \n",
       "29          Britannia  "
      ]
     },
     "execution_count": 3,
     "metadata": {},
     "output_type": "execute_result"
    }
   ],
   "source": [
    "data = data.copy()[data['type']==\"Dressel 20\"]\n",
    "data.drop(labels=['X', 'Y', 'type'], axis=1, inplace=True)  #no longer need type, since all vessels same\n",
    "data.rename(columns={\"name\":\"province\"}, inplace=True)\n",
    "data.head(10)"
   ]
  },
  {
   "cell_type": "code",
   "execution_count": 4,
   "metadata": {
    "collapsed": false,
    "gather": {
     "logged": 1707023698554
    },
    "jupyter": {
     "outputs_hidden": false,
     "source_hidden": false
    },
    "nteract": {
     "transient": {
      "deleting": false
     }
    }
   },
   "outputs": [
    {
     "name": "stdout",
     "output_type": "stream",
     "text": [
      "province\n",
      "Achaia                     6\n",
      "Aegyptus                  74\n",
      "Africa Proconsularis       1\n",
      "Aquitania                163\n",
      "Asia                       5\n",
      "Baetica                 1510\n",
      "Belgica                  353\n",
      "Britannia               1845\n",
      "Caledonia                133\n",
      "Corsica et Sardinia       17\n",
      "Dalmatia                  15\n",
      "Germania Inferior        415\n",
      "Germania Superior       2121\n",
      "Italia                   476\n",
      "Lugdunensis              591\n",
      "Lusitania                 17\n",
      "Mauretania Tingitana     287\n",
      "Narbonensis             1807\n",
      "Noricum                    6\n",
      "Pannonia Inferior         21\n",
      "Pannonia Superior          8\n",
      "Raetia                   136\n",
      "Syria                      1\n",
      "Tarraconensis            230\n",
      "dtype: int64\n"
     ]
    }
   ],
   "source": [
    "print(data[['province', 'id']].groupby(by='province', sort=True, dropna=True).size())"
   ]
  },
  {
   "cell_type": "code",
   "execution_count": 5,
   "metadata": {
    "collapsed": false,
    "gather": {
     "logged": 1707023699312
    },
    "jupyter": {
     "outputs_hidden": false,
     "source_hidden": false
    },
    "nteract": {
     "transient": {
      "deleting": false
     }
    }
   },
   "outputs": [
    {
     "data": {
      "text/plain": [
       "<matplotlib.axes._subplots.AxesSubplot at 0x7efda91fd580>"
      ]
     },
     "execution_count": 5,
     "metadata": {},
     "output_type": "execute_result"
    },
    {
     "data": {
      "image/png": "[encoded data removed]",
      "text/plain": [
       "<Figure size 640x480 with 1 Axes>"
      ]
     },
     "metadata": {},
     "output_type": "display_data"
    }
   ],
   "source": [
    "data[['province', 'id']].groupby(by='province', sort=True, dropna=True).size().sort_values(ascending=False).plot()"
   ]
  },
  {
   "cell_type": "markdown",
   "metadata": {
    "nteract": {
     "transient": {
      "deleting": false
     }
    }
   },
   "source": [
    "Something about skewedness of data.  Makes sense, but also needs to be in consideration for the ML job. "
   ]
  },
  {
   "cell_type": "code",
   "execution_count": 6,
   "metadata": {},
   "outputs": [
    {
     "data": {
      "image/png": "[encoded data removed]",
      "text/plain": [
       "<Figure size 640x480 with 1 Axes>"
      ]
     },
     "metadata": {},
     "output_type": "display_data"
    },
    {
     "data": {
      "image/png": "[encoded data removed]",
      "text/plain": [
       "<Figure size 640x480 with 1 Axes>"
      ]
     },
     "metadata": {},
     "output_type": "display_data"
    }
   ],
   "source": [
    "#xplore data distribution\n",
    "data['code'].value_counts()[0:20].plot(kind='bar', title='Code Frequency')\n",
    "plt.show()\n",
    "data['code'].value_counts()[-20:].plot(kind='bar', title='Code Frequency')\n",
    "plt.show()"
   ]
  },
  {
   "cell_type": "markdown",
   "metadata": {},
   "source": [
    "Something about single-use stamps not being super interesting or fair/viable to predict.  For the case of this experiment, I will filter to only stamps which are known to occur atleast 20 times. "
   ]
  },
  {
   "cell_type": "code",
   "execution_count": 7,
   "metadata": {},
   "outputs": [],
   "source": [
    "data['occurances'] = data.groupby('code')['code'].transform('size')\n",
    "data = data[data['occurances']>= 20]\n",
    "data.drop(columns=['occurances'], inplace=True)"
   ]
  },
  {
   "cell_type": "code",
   "execution_count": 8,
   "metadata": {
    "collapsed": false,
    "gather": {
     "logged": 1707023700342
    },
    "jupyter": {
     "outputs_hidden": false,
     "source_hidden": false
    },
    "nteract": {
     "transient": {
      "deleting": false
     }
    }
   },
   "outputs": [],
   "source": [
    "#set up workspace and experiment\n",
    "ws = Workspace.from_config()\n",
    "\n",
    "# choose a name for experiment\n",
    "experiment_name = 'stamp_classification'\n",
    "\n",
    "experiment=Experiment(ws, experiment_name)"
   ]
  },
  {
   "cell_type": "code",
   "execution_count": 9,
   "metadata": {
    "collapsed": false,
    "gather": {
     "logged": 1707023700756
    },
    "jupyter": {
     "outputs_hidden": false,
     "source_hidden": false
    },
    "nteract": {
     "transient": {
      "deleting": false
     }
    }
   },
   "outputs": [
    {
     "name": "stdout",
     "output_type": "stream",
     "text": [
      "InProgress......\n",
      "SucceededProvisioning operation finished, operation \"Succeeded\"\n",
      "Succeeded\n",
      "AmlCompute wait for completion finished\n",
      "\n",
      "Minimum number of nodes requested have been provisioned\n"
     ]
    }
   ],
   "source": [
    "#set up compute\n",
    "from azureml.core.compute import ComputeTarget, AmlCompute\n",
    "\n",
    "cluster_name = \"stampCluster\"\n",
    "nodes = 6\n",
    "vm_sz = \"Standard_D3_V2\"\n",
    "\n",
    "# Verify that cluster does not exist already\n",
    "try:\n",
    "    cpu_cluster = ComputeTarget(workspace=ws, name=cluster_name)\n",
    "    print('Found existing cluster, use it.')\n",
    "except:\n",
    "    compute_config = AmlCompute.provisioning_configuration(vm_size=vm_sz,\n",
    "                                                            max_nodes=nodes)\n",
    "    cpu_cluster = ComputeTarget.create(ws, cluster_name, compute_config)\n",
    "    cpu_cluster.wait_for_completion(show_output=True)"
   ]
  },
  {
   "cell_type": "markdown",
   "metadata": {},
   "source": [
    "## AutoML Configuration\n",
    "\n",
    "TODO: Explain why you chose the automl settings and cofiguration you used below."
   ]
  },
  {
   "cell_type": "code",
   "execution_count": 10,
   "metadata": {
    "collapsed": false,
    "gather": {
     "logged": 1707024621915
    },
    "jupyter": {
     "outputs_hidden": false,
     "source_hidden": false
    },
    "nteract": {
     "transient": {
      "deleting": false
     }
    }
   },
   "outputs": [
    {
     "name": "stdout",
     "output_type": "stream",
     "text": [
      "Validating arguments.\n",
      "Arguments validated.\n",
      "Successfully obtained datastore reference and path.\n",
      "Uploading file to managed-dataset/1d913857-6675-4f41-8b1a-4d2db845f17d/\n",
      "Successfully uploaded file to datastore.\n",
      "Creating and registering a new dataset.\n",
      "Successfully created and registered a new dataset.\n"
     ]
    }
   ],
   "source": [
    "# TODO: Put your automl settings here\n",
    "y = 'code'\n",
    "metric = 'accuracy'\n",
    "timeout_hrs = 3.5\n",
    "max_iter = 5\n",
    "\n",
    "tabular_data = Dataset.Tabular.register_pandas_dataframe(dataframe=data, name=\"stamps\", target=ws.get_default_datastore())\n",
    "\n",
    "automl_settings = {\n",
    "     \"task\":\"classification\",\n",
    "     \"primary_metric\":metric,\n",
    "     \"training_data\": tabular_data, \n",
    "     \"label_column_name\":y,\n",
    "    # \"n_cross_validations\": cvs, not specifing allows monte carlo validation\n",
    "     \"featurization\": \"auto\",\n",
    "     \"max_concurrent_iterations\":max_iter,\n",
    "     \"iteration_timeout_minutes\":25,\n",
    "     \"experiment_timeout_hours\": timeout_hrs,\n",
    "     \"enable_early_stopping\": True,\n",
    "     \"model_explainability\": True,\n",
    "     \"compute_target\": cluster_name\n",
    "}\n",
    "\n",
    "# TODO: Put your automl config here\n",
    "automl_config = AutoMLConfig(**automl_settings)"
   ]
  },
  {
   "cell_type": "code",
   "execution_count": 11,
   "metadata": {
    "collapsed": false,
    "gather": {
     "logged": 1707024650752
    },
    "jupyter": {
     "outputs_hidden": false,
     "source_hidden": false
    },
    "nteract": {
     "transient": {
      "deleting": false
     }
    }
   },
   "outputs": [
    {
     "name": "stdout",
     "output_type": "stream",
     "text": [
      "Submitting remote run.\n"
     ]
    },
    {
     "data": {
      "text/html": [
       "<table style=\"width:100%\"><tr><th>Experiment</th><th>Id</th><th>Type</th><th>Status</th><th>Details Page</th><th>Docs Page</th></tr><tr><td>stamp_classification</td><td>AutoML_0139dc68-2be5-475b-b8b8-fe3a74869270</td><td>automl</td><td>NotStarted</td><td><a href=\"https://ml.azure.com/runs/AutoML_0139dc68-2be5-475b-b8b8-fe3a74869270?wsid=/subscriptions/3d1a56d2-7c81-4118-9790-f85d1acf0c77/resourcegroups/aml-quickstarts-251949/workspaces/quick-starts-ws-251949&amp;tid=660b3398-b80e-49d2-bc5b-ac1dc93b5254\" target=\"_blank\" rel=\"noopener\">Link to Azure Machine Learning studio</a></td><td><a href=\"https://docs.microsoft.com/en-us/python/api/overview/azure/ml/intro?view=azure-ml-py\" target=\"_blank\" rel=\"noopener\">Link to Documentation</a></td></tr></table>"
      ]
     },
     "metadata": {},
     "output_type": "display_data"
    }
   ],
   "source": [
    "# TODO: Submit your experiment\n",
    "remote_run = experiment.submit(automl_config)"
   ]
  },
  {
   "cell_type": "markdown",
   "metadata": {},
   "source": [
    "## Run Details\n",
    "\n",
    "OPTIONAL: Write about the different models trained and their performance. Why do you think some models did better than others?\n",
    "\n",
    "TODO: In the cell below, use the `RunDetails` widget to show the different experiments."
   ]
  },
  {
   "cell_type": "code",
   "execution_count": 12,
   "metadata": {
    "collapsed": false,
    "gather": {
     "logged": 1598431121770
    },
    "jupyter": {
     "outputs_hidden": false,
     "source_hidden": false
    },
    "nteract": {
     "transient": {
      "deleting": false
     }
    }
   },
   "outputs": [
    {
     "data": {
      "application/vnd.jupyter.widget-view+json": {
       "model_id": "59615dc5c2a0442898cf3f97479a37b0",
       "version_major": 2,
       "version_minor": 0
      },
      "text/plain": [
       "_AutoMLWidget(widget_settings={'childWidgetDisplay': 'popup', 'send_telemetry': False, 'log_level': 'INFO', 's…"
      ]
     },
     "metadata": {},
     "output_type": "display_data"
    },
    {
     "data": {
      "application/aml.mini.widget.v1": "{\"status\": \"Completed\", \"workbench_run_details_uri\": \"https://ml.azure.com/runs/AutoML_0139dc68-2be5-475b-b8b8-fe3a74869270?wsid=/subscriptions/3d1a56d2-7c81-4118-9790-f85d1acf0c77/resourcegroups/aml-quickstarts-251949/workspaces/quick-starts-ws-251949&tid=660b3398-b80e-49d2-bc5b-ac1dc93b5254\", \"run_id\": \"AutoML_0139dc68-2be5-475b-b8b8-fe3a74869270\", \"run_properties\": {\"run_id\": \"AutoML_0139dc68-2be5-475b-b8b8-fe3a74869270\", \"created_utc\": \"2024-02-07T06:06:58.71651Z\", \"properties\": {\"num_iterations\": \"1000\", \"training_type\": \"TrainFull\", \"acquisition_function\": \"EI\", \"primary_metric\": \"accuracy\", \"train_split\": \"0\", \"acquisition_parameter\": \"0\", \"num_cross_validation\": null, \"target\": \"stampCluster\", \"AMLSettingsJsonString\": \"{\\\"path\\\":null,\\\"name\\\":\\\"stamp_classification\\\",\\\"subscription_id\\\":\\\"3d1a56d2-7c81-4118-9790-f85d1acf0c77\\\",\\\"resource_group\\\":\\\"aml-quickstarts-251949\\\",\\\"workspace_name\\\":\\\"quick-starts-ws-251949\\\",\\\"region\\\":\\\"westus2\\\",\\\"compute_target\\\":\\\"stampCluster\\\",\\\"spark_service\\\":null,\\\"azure_service\\\":\\\"remote\\\",\\\"many_models\\\":false,\\\"pipeline_fetch_max_batch_size\\\":1,\\\"enable_batch_run\\\":true,\\\"enable_parallel_run\\\":false,\\\"num_procs\\\":null,\\\"enable_run_restructure\\\":false,\\\"start_auxiliary_runs_before_parent_complete\\\":false,\\\"enable_code_generation\\\":true,\\\"iterations\\\":1000,\\\"primary_metric\\\":\\\"accuracy\\\",\\\"task_type\\\":\\\"classification\\\",\\\"positive_label\\\":null,\\\"data_script\\\":null,\\\"test_size\\\":0.0,\\\"test_include_predictions_only\\\":false,\\\"validation_size\\\":0.0,\\\"n_cross_validations\\\":null,\\\"y_min\\\":null,\\\"y_max\\\":null,\\\"num_classes\\\":null,\\\"featurization\\\":\\\"auto\\\",\\\"_ignore_package_version_incompatibilities\\\":false,\\\"is_timeseries\\\":false,\\\"max_cores_per_iteration\\\":1,\\\"max_concurrent_iterations\\\":5,\\\"iteration_timeout_minutes\\\":25,\\\"mem_in_mb\\\":null,\\\"enforce_time_on_windows\\\":false,\\\"experiment_timeout_minutes\\\":210,\\\"experiment_exit_score\\\":null,\\\"partition_column_names\\\":null,\\\"whitelist_models\\\":null,\\\"blacklist_algos\\\":[\\\"TensorFlowLinearClassifier\\\",\\\"TensorFlowDNN\\\"],\\\"supported_models\\\":[\\\"AveragedPerceptronClassifier\\\",\\\"TensorFlowDNN\\\",\\\"MultinomialNaiveBayes\\\",\\\"LinearSVM\\\",\\\"SVM\\\",\\\"KNN\\\",\\\"ExtremeRandomTrees\\\",\\\"SGD\\\",\\\"LogisticRegression\\\",\\\"DecisionTree\\\",\\\"RandomForest\\\",\\\"LightGBM\\\",\\\"TabnetClassifier\\\",\\\"BernoulliNaiveBayes\\\",\\\"TensorFlowLinearClassifier\\\",\\\"XGBoostClassifier\\\",\\\"GradientBoosting\\\"],\\\"private_models\\\":[],\\\"auto_blacklist\\\":true,\\\"blacklist_samples_reached\\\":false,\\\"exclude_nan_labels\\\":true,\\\"verbosity\\\":20,\\\"_debug_log\\\":\\\"azureml_automl.log\\\",\\\"show_warnings\\\":false,\\\"model_explainability\\\":true,\\\"service_url\\\":null,\\\"sdk_url\\\":null,\\\"sdk_packages\\\":null,\\\"enable_onnx_compatible_models\\\":false,\\\"enable_split_onnx_featurizer_estimator_models\\\":false,\\\"vm_type\\\":\\\"Standard_D3_V2\\\",\\\"telemetry_verbosity\\\":20,\\\"send_telemetry\\\":true,\\\"enable_dnn\\\":false,\\\"scenario\\\":\\\"AutoML\\\",\\\"environment_label\\\":null,\\\"save_mlflow\\\":false,\\\"enable_categorical_indicators\\\":false,\\\"force_text_dnn\\\":false,\\\"enable_feature_sweeping\\\":true,\\\"enable_early_stopping\\\":true,\\\"early_stopping_n_iters\\\":10,\\\"arguments\\\":null,\\\"dataset_id\\\":\\\"eec09ce6-6882-4470-84aa-23a7a4aad796\\\",\\\"hyperdrive_config\\\":null,\\\"validation_dataset_id\\\":null,\\\"run_source\\\":null,\\\"metrics\\\":null,\\\"enable_metric_confidence\\\":false,\\\"enable_ensembling\\\":true,\\\"enable_stack_ensembling\\\":true,\\\"ensemble_iterations\\\":15,\\\"enable_tf\\\":false,\\\"enable_subsampling\\\":null,\\\"subsample_seed\\\":null,\\\"enable_nimbusml\\\":false,\\\"enable_streaming\\\":false,\\\"force_streaming\\\":false,\\\"track_child_runs\\\":true,\\\"n_best_runs\\\":1,\\\"allowed_private_models\\\":[],\\\"label_column_name\\\":\\\"code\\\",\\\"weight_column_name\\\":null,\\\"cv_split_column_names\\\":null,\\\"enable_local_managed\\\":false,\\\"_local_managed_run_id\\\":null,\\\"cost_mode\\\":1,\\\"lag_length\\\":0,\\\"metric_operation\\\":\\\"maximize\\\",\\\"preprocess\\\":true}\", \"DataPrepJsonString\": \"{\\\\\\\"training_data\\\\\\\": {\\\\\\\"datasetId\\\\\\\": \\\\\\\"eec09ce6-6882-4470-84aa-23a7a4aad796\\\\\\\"}, \\\\\\\"datasets\\\\\\\": 0}\", \"EnableSubsampling\": null, \"runTemplate\": \"AutoML\", \"azureml.runsource\": \"automl\", \"display_task_type\": \"classification\", \"dependencies_versions\": \"{\\\"azureml-dataprep-native\\\": \\\"38.0.0\\\", \\\"azureml-dataprep\\\": \\\"4.10.8\\\", \\\"azureml-dataprep-rslex\\\": \\\"2.17.12\\\", \\\"azureml-train-automl-runtime\\\": \\\"1.51.0.post2\\\", \\\"azureml-train-automl-client\\\": \\\"1.51.0.post1\\\", \\\"azureml-training-tabular\\\": \\\"1.51.0.post1\\\", \\\"azureml-automl-runtime\\\": \\\"1.51.0.post1\\\", \\\"azureml-automl-core\\\": \\\"1.51.0.post1\\\", \\\"azureml-mlflow\\\": \\\"1.51.0\\\", \\\"azureml-datadrift\\\": \\\"1.51.0\\\", \\\"azureml-pipeline\\\": \\\"1.51.0\\\", \\\"azureml-contrib-dataset\\\": \\\"1.51.0\\\", \\\"azureml-contrib-notebook\\\": \\\"1.51.0\\\", \\\"azureml-accel-models\\\": \\\"1.51.0\\\", \\\"azureml-automl-dnn-nlp\\\": \\\"1.51.0\\\", \\\"azureml-pipeline-core\\\": \\\"1.51.0\\\", \\\"azureml-responsibleai\\\": \\\"1.51.0\\\", \\\"azureml-contrib-automl-pipeline-steps\\\": \\\"1.51.0\\\", \\\"azureml-pipeline-steps\\\": \\\"1.51.0\\\", \\\"azureml-core\\\": \\\"1.51.0\\\", \\\"azureml-contrib-reinforcementlearning\\\": \\\"1.51.0\\\", \\\"azureml-contrib-server\\\": \\\"1.51.0\\\", \\\"azureml-opendatasets\\\": \\\"1.51.0\\\", \\\"azureml-contrib-services\\\": \\\"1.51.0\\\", \\\"azureml-telemetry\\\": \\\"1.51.0\\\", \\\"azureml-train-restclients-hyperdrive\\\": \\\"1.51.0\\\", \\\"azureml-interpret\\\": \\\"1.51.0\\\", \\\"azureml-train-core\\\": \\\"1.51.0\\\", \\\"azureml-tensorboard\\\": \\\"1.51.0\\\", \\\"azureml-train\\\": \\\"1.51.0\\\", \\\"azureml-contrib-pipeline-steps\\\": \\\"1.51.0\\\", \\\"azureml-explain-model\\\": \\\"1.51.0\\\", \\\"azureml-cli-common\\\": \\\"1.51.0\\\", \\\"azureml-widgets\\\": \\\"1.51.0\\\", \\\"azureml-train-automl\\\": \\\"1.51.0\\\", \\\"azureml-defaults\\\": \\\"1.51.0\\\", \\\"azureml-contrib-fairness\\\": \\\"1.51.0\\\", \\\"azureml-sdk\\\": \\\"1.51.0\\\", \\\"azureml-dataset-runtime\\\": \\\"1.51.0\\\", \\\"azureml-inference-server-http\\\": \\\"0.8.4\\\"}\", \"_aml_system_scenario_identification\": \"Remote.Parent\", \"ClientType\": \"SDK\", \"PlatformVersion\": \"DPV1\", \"environment_cpu_name\": \"AzureML-AutoML\", \"environment_cpu_label\": \"scikit-upgrade2\", \"environment_gpu_name\": \"AzureML-AutoML-GPU\", \"environment_gpu_label\": \"scikit-upgrade2\", \"root_attribution\": \"automl\", \"attribution\": \"AutoML\", \"Orchestrator\": \"AutoML\", \"CancelUri\": \"https://westus2.api.azureml.ms/jasmine/v1.0/subscriptions/3d1a56d2-7c81-4118-9790-f85d1acf0c77/resourceGroups/aml-quickstarts-251949/providers/Microsoft.MachineLearningServices/workspaces/quick-starts-ws-251949/experimentids/1bf8c10f-8174-4d14-bf15-03124d3f4d18/cancel/AutoML_0139dc68-2be5-475b-b8b8-fe3a74869270\", \"ClientSdkVersion\": null, \"snapshotId\": \"00000000-0000-0000-0000-000000000000\", \"SetupRunId\": \"AutoML_0139dc68-2be5-475b-b8b8-fe3a74869270_setup\", \"SetupRunContainerId\": \"dcid.AutoML_0139dc68-2be5-475b-b8b8-fe3a74869270_setup\", \"FeaturizationRunJsonPath\": \"featurizer_container.json\", \"FeaturizationRunId\": \"AutoML_0139dc68-2be5-475b-b8b8-fe3a74869270_featurize\", \"ProblemInfoJsonString\": \"{\\\"dataset_num_categorical\\\": 0, \\\"is_sparse\\\": true, \\\"subsampling\\\": false, \\\"has_extra_col\\\": true, \\\"dataset_classes\\\": 86, \\\"dataset_features\\\": 282, \\\"dataset_samples\\\": 5153, \\\"single_frequency_class_detected\\\": false}\", \"ModelExplainRunId\": \"AutoML_0139dc68-2be5-475b-b8b8-fe3a74869270_ModelExplain\"}, \"tags\": {\"model_explain_run\": \"best_run\", \"_aml_system_automl_run_workspace_id\": \"38e75f46-6041-4770-b54b-ff7cfc6d64f5\", \"_aml_system_azureml.automlComponent\": \"AutoML\", \"pipeline_id_000\": \"5dfac790c5c209f98a1da2dc1c7fb76f0397324f;c7af0367625be6ac5c2fecbfc72ed444cb7a2111;799d2168db11fc19b9e1c6c1df62f8981ad39fe9;44b5d2d23120dfcf96a7dc6389a293d17a966b1b;5235e3d56688f5f38ef82d73fba7c2e698fc1af2;17f87d449bb43aaf3cdae4b7eb6dd6e7fbdaf343;3735210984ea10097d5c91905cf6300ac278cd89;dc68fbd594530b5d52812dd9b3ffa3d6d8ba625e;5304e705d6f401cb07f85bcf0ca59ac1f84dfcf5;da45f657e4591caadf1589a85a1f7b8932585595;79ebb3b8c385e3190e3dd4c1fa28b74730528045;294650ec23bc3d067a4972de7ceb12f6e97260fa;797e3e972ad02d947be4c64d2b06b775b6df7a49;589334a57221e0720a95cf217c065115a7b841d1;3caa818370e5e0c328d6266c359019bd31681270;3fd2e115482e0c7b92aa3297688aefb6c3aa6fb8;5a8eb9d9f67b1dd7e9e4062585daa2417ea78989;1dfdf370ba770047b14bfa59c40920815defcdab;2032292dd602836ed754a266c771ac100c4c80dc;35b8e2db3c5f6e714072e1be9f0210fe48426975;e478544eb8734c07a1943f5bdf4e6605be6943df;1b9ea9b05e1aba0cfbaa30fae26f336a29920979;3ef9040509da05037cd402691a100d4b3dfeb7c4;f52e31edb9a1c79d3094620546ebbc7788edbaf8;675ec1c734ed516311cf5441a13a05b407df5a00;3729fcdcce0e2533633dd5b0c9762f151aef849d;672171d97150b0cd0b0e70de4dbad0368f3c5a97;b835115666eb4e8c7c8156d7650ae26cc1e67e40;fedbb4995d6de479c513576119965d71276f03d1;3bbf38dbb2bdf356beede3f6c84c716a2598f692;529edc0d63bc492623ca414490bb504a7cf0f6f7;d8c879230e973551523a8bac1f829851c83d5f01;8d6cf3e6f4331d0d81d9c1db48ceda8fada5f519;821314ff21c2e1bace10f63e152d97a6f12e5db0;21a2896aab6f2ef7bfbc243a2b285f52cc2fe08d;e7c78ea70fd379a87f18851b2b24b9c4d85cc441;30375c57df504d44831d2f98db4340f9586b8760;cff6348f87727a9d4c1659428f6786b908a54826;__AutoML_Ensemble__;__AutoML_Stack_Ensemble__\", \"score_000\": \"0.2786987799649649;0.6076106925901793;0.08732743780438441;0.2912879694461263;0.10304022253214845;0.19134908080960802;0.26373225900279545;0.47448227668757426;0.29206519569987544;0.1554438947284443;0.13797856537006162;0.45759800249010724;0.11410931204741374;0.41451731628000843;0.15622010396615915;0.3714341440307148;0.26450722522091286;0.1020764303370007;0.10130112511353855;0.4286853666534906;0.512517207346291;0.443433794177199;0.08673982854013677;0.15272710589555155;0.36542052822004795;0.20298939433079102;0.15913046485090884;0.16359482623603042;0.16611973804379;0.13196381954157888;0.05569586610102495;0.1907646355952448;0.4546877546071391;0.20182875303212033;NaN;NaN;NaN;NaN;0.608192877768911;0.5883971126688783\", \"predicted_cost_000\": \"0;0;0.5;0.5;0.5;0.5;0.5;0.5;0.5;0.5;0.5;0.5;0.5;0.5;0.5;0.5;0.5;0.5;0.5;0.5;4.9640646049345385;2.251126770522825;0.11768958355090174;9.33729458598502;3.2899457293912286;2.407402156418965;1.689736162135249;1.38778966516452;6.468462289966851;4.92081271391793;1.4821418549028451;0.555230185012214;20.082084484842483;0.4155329075898459;0.41816580315103175;6.275740565242502;1.526340456524413;8.533107404687904;0;0\", \"fit_time_000\": \"8.127494333333333;17.511621666666667;0.513289;2.8465103333333333;3.646028333333333;0.5909216666666667;0.6806263333333332;4.868879;0.42194400000000004;2.154574333333333;0.13253133333333333;1.7088439999999998;0.621106;1.2966283333333333;2.3581113333333334;1.740016;0.7648489999999999;0.5631216666666666;27.488039999999998;1.4167606666666668;3.6213683333333333;5.0849459999999995;0.05627533333333334;3.4798566666666666;6.755589666666666;0.8163593333333333;0.4908226666666667;0.44573966666666665;11.043642999999998;1.8337946666666667;3.4738043333333333;0.6318983333333333;7.483659666666667;0.40687300000000004;NaN;NaN;NaN;NaN;73;97\", \"training_percent_000\": \"100;100;100;100;100;100;100;100;100;100;100;100;100;100;100;100;100;100;100;100;100;100;100;100;100;100;100;100;100;100;100;100;100;100;100;100;100;100;100;100\", \"iteration_000\": \"0;1;2;3;16;17;4;18;5;12;8;6;13;9;7;14;10;15;19;11;21;22;24;23;25;26;27;28;20;29;30;32;31;34;37;36;35;33;38;39\", \"run_preprocessor_000\": \"MaxAbsScaler;MaxAbsScaler;MaxAbsScaler;SparseNormalizer;StandardScalerWrapper;StandardScalerWrapper;MaxAbsScaler;StandardScalerWrapper;MaxAbsScaler;MaxAbsScaler;StandardScalerWrapper;StandardScalerWrapper;MaxAbsScaler;StandardScalerWrapper;MaxAbsScaler;StandardScalerWrapper;SparseNormalizer;SparseNormalizer;TruncatedSVDWrapper;StandardScalerWrapper;StandardScalerWrapper;SparseNormalizer;StandardScalerWrapper;StandardScalerWrapper;TruncatedSVDWrapper;MaxAbsScaler;StandardScalerWrapper;StandardScalerWrapper;TruncatedSVDWrapper;MaxAbsScaler;SparseNormalizer;MaxAbsScaler;SparseNormalizer;MaxAbsScaler;;;TruncatedSVDWrapper;SparseNormalizer;;\", \"run_algorithm_000\": \"LightGBM;XGBoostClassifier;ExtremeRandomTrees;XGBoostClassifier;LogisticRegression;RandomForest;LightGBM;XGBoostClassifier;LightGBM;LogisticRegression;ExtremeRandomTrees;XGBoostClassifier;SGD;XGBoostClassifier;LogisticRegression;XGBoostClassifier;LightGBM;RandomForest;RandomForest;XGBoostClassifier;XGBoostClassifier;XGBoostClassifier;RandomForest;LogisticRegression;XGBoostClassifier;LightGBM;XGBoostClassifier;XGBoostClassifier;RandomForest;ExtremeRandomTrees;XGBoostClassifier;LightGBM;XGBoostClassifier;LightGBM;;;XGBoostClassifier;XGBoostClassifier;VotingEnsemble;StackEnsemble\", \"dynamic_allowlisting_iterations\": \"<25>;<30>;<35>;\", \"_aml_system_azureml.automl_early_exit_message\": \"No scores improved over last 10 iterations, so experiment stopped early. This early stopping behavior can be disabled by setting enable_early_stopping = False in AutoMLConfig for notebook/python SDK runs.\", \"automl_best_child_run_id\": \"AutoML_0139dc68-2be5-475b-b8b8-fe3a74869270_38\", \"model_explain_best_run_child_id\": \"AutoML_0139dc68-2be5-475b-b8b8-fe3a74869270_38\"}, \"end_time_utc\": \"2024-02-07T06:40:16.830594Z\", \"status\": \"Completed\", \"log_files\": {}, \"log_groups\": [], \"run_duration\": \"0:33:18\", \"run_number\": \"1707286018\", \"run_queued_details\": {\"status\": \"Completed\", \"details\": null}}, \"child_runs\": [{\"run_id\": \"AutoML_0139dc68-2be5-475b-b8b8-fe3a74869270_setup\", \"run_number\": 1707286030, \"metric\": null, \"status\": \"Completed\", \"run_type\": \"azureml.scriptrun\", \"training_percent\": null, \"start_time\": \"2024-02-07T06:15:04.874815Z\", \"end_time\": \"2024-02-07T06:19:02.848254Z\", \"created_time\": \"2024-02-07T06:07:10.94569Z\", \"created_time_dt\": \"2024-02-07T06:07:10.94569Z\", \"duration\": \"0:11:51\", \"iteration\": null, \"goal\": null, \"run_name\": \"Completed\", \"run_properties\": null}, {\"run_id\": \"AutoML_0139dc68-2be5-475b-b8b8-fe3a74869270_featurize\", \"run_number\": 1707286743, \"metric\": null, \"status\": \"Completed\", \"run_type\": \"automl.featurization\", \"training_percent\": null, \"start_time\": \"2024-02-07T06:19:03.588235Z\", \"end_time\": \"2024-02-07T06:20:28.933223Z\", \"created_time\": \"2024-02-07T06:19:03.113221Z\", \"created_time_dt\": \"2024-02-07T06:19:03.113221Z\", \"duration\": \"0:01:25\", \"iteration\": null, \"goal\": null, \"run_name\": \"Completed\", \"run_properties\": null}, {\"run_id\": \"AutoML_0139dc68-2be5-475b-b8b8-fe3a74869270_0\", \"run_number\": 1707286830, \"metric\": null, \"status\": \"Completed\", \"run_type\": null, \"training_percent\": \"100\", \"start_time\": \"2024-02-07T06:21:07.026575Z\", \"end_time\": \"2024-02-07T06:22:13.856291Z\", \"created_time\": \"2024-02-07T06:20:30.903621Z\", \"created_time_dt\": \"2024-02-07T06:20:30.903621Z\", \"duration\": \"0:01:42\", \"iteration\": \"0\", \"goal\": \"accuracy_max\", \"run_name\": \"MaxAbsScaler, LightGBM\", \"run_properties\": \"copy=True\", \"primary_metric\": 0.27869878, \"best_metric\": 0.27869878}, {\"run_id\": \"AutoML_0139dc68-2be5-475b-b8b8-fe3a74869270_1\", \"run_number\": 1707286831, \"metric\": null, \"status\": \"Completed\", \"run_type\": null, \"training_percent\": \"100\", \"start_time\": \"2024-02-07T06:22:17.883198Z\", \"end_time\": \"2024-02-07T06:24:11.176406Z\", \"created_time\": \"2024-02-07T06:20:31.437451Z\", \"created_time_dt\": \"2024-02-07T06:20:31.437451Z\", \"duration\": \"0:03:39\", \"iteration\": \"1\", \"goal\": \"accuracy_max\", \"run_name\": \"MaxAbsScaler, XGBoostClassifier\", \"run_properties\": \"copy=True\", \"primary_metric\": 0.60761069, \"best_metric\": 0.60761069}, {\"run_id\": \"AutoML_0139dc68-2be5-475b-b8b8-fe3a74869270_worker_0\", \"run_number\": 1707286832, \"metric\": null, \"status\": \"Completed\", \"run_type\": \"azureml.scriptrun\", \"training_percent\": null, \"start_time\": \"2024-02-07T06:20:55.648161Z\", \"end_time\": \"2024-02-07T06:25:43.419478Z\", \"created_time\": \"2024-02-07T06:20:32.837093Z\", \"created_time_dt\": \"2024-02-07T06:20:32.837093Z\", \"duration\": \"0:05:10\", \"iteration\": null, \"goal\": null, \"run_name\": \"Completed\", \"run_properties\": null}, {\"run_id\": \"AutoML_0139dc68-2be5-475b-b8b8-fe3a74869270_4\", \"run_number\": 1707286833, \"metric\": null, \"status\": \"Completed\", \"run_type\": null, \"training_percent\": \"100\", \"start_time\": \"2024-02-07T06:27:32.071415Z\", \"end_time\": \"2024-02-07T06:28:06.669528Z\", \"created_time\": \"2024-02-07T06:20:33.048295Z\", \"created_time_dt\": \"2024-02-07T06:20:33.048295Z\", \"duration\": \"0:07:33\", \"iteration\": \"4\", \"goal\": \"accuracy_max\", \"run_name\": \"MaxAbsScaler, LightGBM\", \"run_properties\": \"copy=True\", \"primary_metric\": 0.26373226, \"best_metric\": 0.60761069}, {\"run_id\": \"AutoML_0139dc68-2be5-475b-b8b8-fe3a74869270_worker_1\", \"run_number\": 1707286834, \"metric\": null, \"status\": \"Completed\", \"run_type\": \"azureml.scriptrun\", \"training_percent\": null, \"start_time\": \"2024-02-07T06:24:42.972475Z\", \"end_time\": \"2024-02-07T06:30:11.057118Z\", \"created_time\": \"2024-02-07T06:20:34.792001Z\", \"created_time_dt\": \"2024-02-07T06:20:34.792001Z\", \"duration\": \"0:09:36\", \"iteration\": null, \"goal\": null, \"run_name\": \"Completed\", \"run_properties\": null}, {\"run_id\": \"AutoML_0139dc68-2be5-475b-b8b8-fe3a74869270_9\", \"run_number\": 1707286835, \"metric\": null, \"status\": \"Completed\", \"run_type\": null, \"training_percent\": \"100\", \"start_time\": \"2024-02-07T06:29:15.761089Z\", \"end_time\": \"2024-02-07T06:29:54.34428Z\", \"created_time\": \"2024-02-07T06:20:35.494564Z\", \"created_time_dt\": \"2024-02-07T06:20:35.494564Z\", \"duration\": \"0:09:18\", \"iteration\": \"9\", \"goal\": \"accuracy_max\", \"run_name\": \"StandardScalerWrapper, XGBoostClassifier\", \"run_properties\": \"copy=True, with_mean=False, with_std=False\", \"primary_metric\": 0.41451732, \"best_metric\": 0.60761069}, {\"run_id\": \"AutoML_0139dc68-2be5-475b-b8b8-fe3a74869270_worker_2\", \"run_number\": 1707286836, \"metric\": null, \"status\": \"Completed\", \"run_type\": \"azureml.scriptrun\", \"training_percent\": null, \"start_time\": \"2024-02-07T06:25:26.374121Z\", \"end_time\": \"2024-02-07T06:31:26.692495Z\", \"created_time\": \"2024-02-07T06:20:36.774197Z\", \"created_time_dt\": \"2024-02-07T06:20:36.774197Z\", \"duration\": \"0:10:49\", \"iteration\": null, \"goal\": null, \"run_name\": \"Completed\", \"run_properties\": null}, {\"run_id\": \"AutoML_0139dc68-2be5-475b-b8b8-fe3a74869270_13\", \"run_number\": 1707286837, \"metric\": null, \"status\": \"Completed\", \"run_type\": null, \"training_percent\": \"100\", \"start_time\": \"2024-02-07T06:29:12.094106Z\", \"end_time\": \"2024-02-07T06:29:43.341194Z\", \"created_time\": \"2024-02-07T06:20:37.383023Z\", \"created_time_dt\": \"2024-02-07T06:20:37.383023Z\", \"duration\": \"0:09:05\", \"iteration\": \"13\", \"goal\": \"accuracy_max\", \"run_name\": \"MaxAbsScaler, SGD\", \"run_properties\": \"copy=True\", \"primary_metric\": 0.11410931, \"best_metric\": 0.60761069}, {\"run_id\": \"AutoML_0139dc68-2be5-475b-b8b8-fe3a74869270_worker_3\", \"run_number\": 1707286838, \"metric\": null, \"status\": \"Completed\", \"run_type\": \"azureml.scriptrun\", \"training_percent\": null, \"start_time\": \"2024-02-07T06:25:49.905734Z\", \"end_time\": \"2024-02-07T06:31:09.463626Z\", \"created_time\": \"2024-02-07T06:20:38.665423Z\", \"created_time_dt\": \"2024-02-07T06:20:38.665423Z\", \"duration\": \"0:10:30\", \"iteration\": null, \"goal\": null, \"run_name\": \"Completed\", \"run_properties\": null}, {\"run_id\": \"AutoML_0139dc68-2be5-475b-b8b8-fe3a74869270_17\", \"run_number\": 1707286839, \"metric\": null, \"status\": \"Completed\", \"run_type\": null, \"training_percent\": \"100\", \"start_time\": \"2024-02-07T06:27:00.904264Z\", \"end_time\": \"2024-02-07T06:27:33.54354Z\", \"created_time\": \"2024-02-07T06:20:39.321018Z\", \"created_time_dt\": \"2024-02-07T06:20:39.321018Z\", \"duration\": \"0:06:54\", \"iteration\": \"17\", \"goal\": \"accuracy_max\", \"run_name\": \"StandardScalerWrapper, RandomForest\", \"run_properties\": \"copy=True, with_mean=False, with_std=False\", \"primary_metric\": 0.19134908, \"best_metric\": 0.60761069}, {\"run_id\": \"AutoML_0139dc68-2be5-475b-b8b8-fe3a74869270_worker_4\", \"run_number\": 1707286840, \"metric\": null, \"status\": \"Completed\", \"run_type\": \"azureml.scriptrun\", \"training_percent\": null, \"start_time\": \"2024-02-07T06:25:57.90031Z\", \"end_time\": \"2024-02-07T06:31:20.484041Z\", \"created_time\": \"2024-02-07T06:20:40.535372Z\", \"created_time_dt\": \"2024-02-07T06:20:40.535372Z\", \"duration\": \"0:10:39\", \"iteration\": null, \"goal\": null, \"run_name\": \"Completed\", \"run_properties\": null}, {\"run_id\": \"AutoML_0139dc68-2be5-475b-b8b8-fe3a74869270_20\", \"run_number\": 1707287429, \"metric\": null, \"status\": \"Completed\", \"run_type\": \"azureml.scriptrun\", \"training_percent\": \"100\", \"start_time\": \"2024-02-07T06:31:00.239558Z\", \"end_time\": \"2024-02-07T06:35:11.055347Z\", \"created_time\": \"2024-02-07T06:30:29.676126Z\", \"created_time_dt\": \"2024-02-07T06:30:29.676126Z\", \"duration\": \"0:04:41\", \"iteration\": \"20\", \"goal\": \"accuracy_max\", \"run_name\": \"TruncatedSVDWrapper, RandomForest\", \"run_properties\": \"n_components=0.7026315789473684, random_state=None\", \"primary_metric\": 0.16611974, \"best_metric\": 0.60761069}, {\"run_id\": \"AutoML_0139dc68-2be5-475b-b8b8-fe3a74869270_22\", \"run_number\": 1707287473, \"metric\": null, \"status\": \"Completed\", \"run_type\": \"azureml.scriptrun\", \"training_percent\": \"100\", \"start_time\": \"2024-02-07T06:31:34.797206Z\", \"end_time\": \"2024-02-07T06:32:48.701127Z\", \"created_time\": \"2024-02-07T06:31:13.474908Z\", \"created_time_dt\": \"2024-02-07T06:31:13.474908Z\", \"duration\": \"0:01:35\", \"iteration\": \"22\", \"goal\": \"accuracy_max\", \"run_name\": \"SparseNormalizer, XGBoostClassifier\", \"run_properties\": \"copy=True, norm='l1'\", \"primary_metric\": 0.44343379, \"best_metric\": 0.60761069}, {\"run_id\": \"AutoML_0139dc68-2be5-475b-b8b8-fe3a74869270_23\", \"run_number\": 1707287524, \"metric\": null, \"status\": \"Completed\", \"run_type\": \"azureml.scriptrun\", \"training_percent\": \"100\", \"start_time\": \"2024-02-07T06:32:35.02435Z\", \"end_time\": \"2024-02-07T06:33:46.490356Z\", \"created_time\": \"2024-02-07T06:32:04.468659Z\", \"created_time_dt\": \"2024-02-07T06:32:04.468659Z\", \"duration\": \"0:01:42\", \"iteration\": \"23\", \"goal\": \"accuracy_max\", \"run_name\": \"StandardScalerWrapper, LogisticRegression\", \"run_properties\": \"copy=True, with_mean=False, with_std=True\", \"primary_metric\": 0.15272711, \"best_metric\": 0.60761069}, {\"run_id\": \"AutoML_0139dc68-2be5-475b-b8b8-fe3a74869270_25\", \"run_number\": 1707287541, \"metric\": null, \"status\": \"Completed\", \"run_type\": \"azureml.scriptrun\", \"training_percent\": \"100\", \"start_time\": \"2024-02-07T06:32:43.194637Z\", \"end_time\": \"2024-02-07T06:34:05.720105Z\", \"created_time\": \"2024-02-07T06:32:21.349462Z\", \"created_time_dt\": \"2024-02-07T06:32:21.349462Z\", \"duration\": \"0:01:44\", \"iteration\": \"25\", \"goal\": \"accuracy_max\", \"run_name\": \"TruncatedSVDWrapper, XGBoostClassifier\", \"run_properties\": \"n_components=0.01, random_state=None\", \"primary_metric\": 0.36542053, \"best_metric\": 0.60761069}, {\"run_id\": \"AutoML_0139dc68-2be5-475b-b8b8-fe3a74869270_26\", \"run_number\": 1707287570, \"metric\": null, \"status\": \"Completed\", \"run_type\": \"azureml.scriptrun\", \"training_percent\": \"100\", \"start_time\": \"2024-02-07T06:33:16.880172Z\", \"end_time\": \"2024-02-07T06:34:16.066373Z\", \"created_time\": \"2024-02-07T06:32:50.1166Z\", \"created_time_dt\": \"2024-02-07T06:32:50.1166Z\", \"duration\": \"0:01:25\", \"iteration\": \"26\", \"goal\": \"accuracy_max\", \"run_name\": \"MaxAbsScaler, LightGBM\", \"run_properties\": \"copy=True\", \"primary_metric\": 0.20298939, \"best_metric\": 0.60761069}, {\"run_id\": \"AutoML_0139dc68-2be5-475b-b8b8-fe3a74869270_27\", \"run_number\": 1707287614, \"metric\": null, \"status\": \"Completed\", \"run_type\": \"azureml.scriptrun\", \"training_percent\": \"100\", \"start_time\": \"2024-02-07T06:34:00.105978Z\", \"end_time\": \"2024-02-07T06:34:53.758671Z\", \"created_time\": \"2024-02-07T06:33:34.348333Z\", \"created_time_dt\": \"2024-02-07T06:33:34.348333Z\", \"duration\": \"0:01:19\", \"iteration\": \"27\", \"goal\": \"accuracy_max\", \"run_name\": \"StandardScalerWrapper, XGBoostClassifier\", \"run_properties\": \"copy=True, with_mean=False, with_std=False\", \"primary_metric\": 0.15913046, \"best_metric\": 0.60761069}, {\"run_id\": \"AutoML_0139dc68-2be5-475b-b8b8-fe3a74869270_28\", \"run_number\": 1707287628, \"metric\": null, \"status\": \"Completed\", \"run_type\": \"azureml.scriptrun\", \"training_percent\": \"100\", \"start_time\": \"2024-02-07T06:34:13.288933Z\", \"end_time\": \"2024-02-07T06:35:09.651535Z\", \"created_time\": \"2024-02-07T06:33:48.016143Z\", \"created_time_dt\": \"2024-02-07T06:33:48.016143Z\", \"duration\": \"0:01:21\", \"iteration\": \"28\", \"goal\": \"accuracy_max\", \"run_name\": \"StandardScalerWrapper, XGBoostClassifier\", \"run_properties\": \"copy=True, with_mean=False, with_std=False\", \"primary_metric\": 0.16359483, \"best_metric\": 0.60761069}, {\"run_id\": \"AutoML_0139dc68-2be5-475b-b8b8-fe3a74869270_29\", \"run_number\": 1707287647, \"metric\": null, \"status\": \"Completed\", \"run_type\": \"azureml.scriptrun\", \"training_percent\": \"100\", \"start_time\": \"2024-02-07T06:34:31.449534Z\", \"end_time\": \"2024-02-07T06:35:30.714989Z\", \"created_time\": \"2024-02-07T06:34:07.324576Z\", \"created_time_dt\": \"2024-02-07T06:34:07.324576Z\", \"duration\": \"0:01:23\", \"iteration\": \"29\", \"goal\": \"accuracy_max\", \"run_name\": \"MaxAbsScaler, ExtremeRandomTrees\", \"run_properties\": \"copy=True\", \"primary_metric\": 0.13196382, \"best_metric\": 0.60761069}, {\"run_id\": \"AutoML_0139dc68-2be5-475b-b8b8-fe3a74869270_30\", \"run_number\": 1707287658, \"metric\": null, \"status\": \"Completed\", \"run_type\": \"azureml.scriptrun\", \"training_percent\": \"100\", \"start_time\": \"2024-02-07T06:34:40.732403Z\", \"end_time\": \"2024-02-07T06:35:47.017143Z\", \"created_time\": \"2024-02-07T06:34:18.317715Z\", \"created_time_dt\": \"2024-02-07T06:34:18.317715Z\", \"duration\": \"0:01:28\", \"iteration\": \"30\", \"goal\": \"accuracy_max\", \"run_name\": \"SparseNormalizer, XGBoostClassifier\", \"run_properties\": \"copy=True, norm='l1'\", \"primary_metric\": 0.05569587, \"best_metric\": 0.60761069}, {\"run_id\": \"AutoML_0139dc68-2be5-475b-b8b8-fe3a74869270_31\", \"run_number\": 1707287695, \"metric\": null, \"status\": \"Completed\", \"run_type\": \"azureml.scriptrun\", \"training_percent\": \"100\", \"start_time\": \"2024-02-07T06:35:19.637914Z\", \"end_time\": \"2024-02-07T06:36:46.057789Z\", \"created_time\": \"2024-02-07T06:34:55.39428Z\", \"created_time_dt\": \"2024-02-07T06:34:55.39428Z\", \"duration\": \"0:01:50\", \"iteration\": \"31\", \"goal\": \"accuracy_max\", \"run_name\": \"SparseNormalizer, XGBoostClassifier\", \"run_properties\": \"copy=True, norm='l1'\", \"primary_metric\": 0.45468775, \"best_metric\": 0.60761069}, {\"run_id\": \"AutoML_0139dc68-2be5-475b-b8b8-fe3a74869270_32\", \"run_number\": 1707287711, \"metric\": null, \"status\": \"Completed\", \"run_type\": \"azureml.scriptrun\", \"training_percent\": \"100\", \"start_time\": \"2024-02-07T06:35:36.84974Z\", \"end_time\": \"2024-02-07T06:36:30.521072Z\", \"created_time\": \"2024-02-07T06:35:11.108584Z\", \"created_time_dt\": \"2024-02-07T06:35:11.108584Z\", \"duration\": \"0:01:19\", \"iteration\": \"32\", \"goal\": \"accuracy_max\", \"run_name\": \"MaxAbsScaler, LightGBM\", \"run_properties\": \"copy=True\", \"primary_metric\": 0.19076464, \"best_metric\": 0.60761069}, {\"run_id\": \"AutoML_0139dc68-2be5-475b-b8b8-fe3a74869270_33\", \"run_number\": 1707287713, \"metric\": null, \"status\": \"Canceled\", \"run_type\": \"azureml.scriptrun\", \"training_percent\": \"100\", \"start_time\": \"2024-02-07T06:35:36.724297Z\", \"end_time\": \"2024-02-07T06:36:56.975883Z\", \"created_time\": \"2024-02-07T06:35:13.567048Z\", \"created_time_dt\": \"2024-02-07T06:35:13.567048Z\", \"duration\": \"0:01:43\", \"iteration\": \"33\", \"goal\": null, \"run_name\": \"SparseNormalizer, XGBoostClassifier\", \"run_properties\": null}, {\"run_id\": \"AutoML_0139dc68-2be5-475b-b8b8-fe3a74869270_34\", \"run_number\": 1707287732, \"metric\": null, \"status\": \"Completed\", \"run_type\": \"azureml.scriptrun\", \"training_percent\": \"100\", \"start_time\": \"2024-02-07T06:35:56.943568Z\", \"end_time\": \"2024-02-07T06:36:50.068077Z\", \"created_time\": \"2024-02-07T06:35:32.285619Z\", \"created_time_dt\": \"2024-02-07T06:35:32.285619Z\", \"duration\": \"0:01:17\", \"iteration\": \"34\", \"goal\": \"accuracy_max\", \"run_name\": \"MaxAbsScaler, LightGBM\", \"run_properties\": \"copy=True\", \"primary_metric\": 0.20182875, \"best_metric\": 0.60761069}, {\"run_id\": \"AutoML_0139dc68-2be5-475b-b8b8-fe3a74869270_35\", \"run_number\": 1707287750, \"metric\": null, \"status\": \"Canceled\", \"run_type\": \"azureml.scriptrun\", \"training_percent\": \"100\", \"start_time\": \"2024-02-07T06:36:11.63958Z\", \"end_time\": \"2024-02-07T06:36:56.757517Z\", \"created_time\": \"2024-02-07T06:35:50.08987Z\", \"created_time_dt\": \"2024-02-07T06:35:50.08987Z\", \"duration\": \"0:01:06\", \"iteration\": \"35\", \"goal\": null, \"run_name\": \"TruncatedSVDWrapper, XGBoostClassifier\", \"run_properties\": null}, {\"run_id\": \"AutoML_0139dc68-2be5-475b-b8b8-fe3a74869270_36\", \"run_number\": 1707287792, \"metric\": null, \"status\": \"Canceled\", \"run_type\": \"azureml.scriptrun\", \"training_percent\": \"100\", \"start_time\": \"2024-02-07T06:36:50.841609Z\", \"end_time\": \"2024-02-07T06:36:54.861716Z\", \"created_time\": \"2024-02-07T06:36:32.168481Z\", \"created_time_dt\": \"2024-02-07T06:36:32.168481Z\", \"duration\": \"0:00:22\", \"iteration\": \"36\", \"goal\": null, \"run_name\": \"Canceled\", \"run_properties\": null}, {\"run_id\": \"AutoML_0139dc68-2be5-475b-b8b8-fe3a74869270_37\", \"run_number\": 1707287808, \"metric\": null, \"status\": \"Canceled\", \"run_type\": \"azureml.scriptrun\", \"training_percent\": \"100\", \"start_time\": \"2024-02-07T06:36:50.921494Z\", \"end_time\": \"2024-02-07T06:36:52.879438Z\", \"created_time\": \"2024-02-07T06:36:48.018823Z\", \"created_time_dt\": \"2024-02-07T06:36:48.018823Z\", \"duration\": \"0:00:04\", \"iteration\": \"37\", \"goal\": null, \"run_name\": \"Canceled\", \"run_properties\": null}, {\"run_id\": \"AutoML_0139dc68-2be5-475b-b8b8-fe3a74869270_38\", \"run_number\": 1707287817, \"metric\": null, \"status\": \"Completed\", \"run_type\": \"azureml.scriptrun\", \"training_percent\": \"100\", \"start_time\": \"2024-02-07T06:37:24.044469Z\", \"end_time\": \"2024-02-07T06:39:31.342143Z\", \"created_time\": \"2024-02-07T06:36:57.832483Z\", \"created_time_dt\": \"2024-02-07T06:36:57.832483Z\", \"duration\": \"0:02:33\", \"iteration\": \"38\", \"goal\": \"accuracy_max\", \"run_name\": \"VotingEnsemble\", \"run_properties\": \"classification_labels=numpy.array([ 0,  1,  2,  3,  4,  5,  6,  7,  8,  9, 10, 11, 12, 13, 14, 15, 16,\\n                             17, 18, 19, 20, 21, 22, 23, 24, 25, 26, 27, 28, 29, 30, 31, 32, 33,\\n                             34, 35, 36, 37, 38, 39, 40, 41, 42, 43, 44, 45, 46, 47, 48, 49, 50,\\n                             51, 52, 53, 54, 55, 56, 57, 58, 59, 60, 61, 62, 63, 64, 65, 66, 67,\\n                             68, 69, 70, 71, 72, 73, 74, 75, 76, 77, 78, 79, 80, 81, 82, 83, 84,\\n                             85]\", \"primary_metric\": 0.60819288, \"best_metric\": 0.60819288}], \"children_metrics\": {\"categories\": [0], \"series\": {\"accuracy\": [{\"categories\": [\"0\", \"1\", \"4\", \"9\", \"13\", \"17\", \"20\", \"22\", \"23\", \"25\", \"26\", \"27\", \"28\", \"29\", \"30\", \"31\", \"32\", \"34\", \"38\"], \"mode\": \"markers\", \"name\": \"accuracy\", \"stepped\": false, \"type\": \"scatter\", \"data\": [0.2786987799649649, 0.6076106925901793, 0.26373225900279545, 0.41451731628000843, 0.11410931204741374, 0.19134908080960802, 0.16611973804379, 0.443433794177199, 0.15272710589555155, 0.36542052822004795, 0.20298939433079102, 0.15913046485090884, 0.16359482623603042, 0.13196381954157888, 0.05569586610102495, 0.4546877546071391, 0.1907646355952448, 0.20182875303212033, 0.608192877768911]}, {\"categories\": [\"0\", \"1\", \"4\", \"9\", \"13\", \"17\", \"20\", \"22\", \"23\", \"25\", \"26\", \"27\", \"28\", \"29\", \"30\", \"31\", \"32\", \"34\", \"38\"], \"mode\": \"lines\", \"name\": \"accuracy_max\", \"stepped\": true, \"type\": \"scatter\", \"data\": [0.2786987799649649, 0.6076106925901793, 0.6076106925901793, 0.6076106925901793, 0.6076106925901793, 0.6076106925901793, 0.6076106925901793, 0.6076106925901793, 0.6076106925901793, 0.6076106925901793, 0.6076106925901793, 0.6076106925901793, 0.6076106925901793, 0.6076106925901793, 0.6076106925901793, 0.6076106925901793, 0.6076106925901793, 0.6076106925901793, 0.608192877768911]}], \"f1_score_weighted\": [{\"categories\": [\"0\", \"1\", \"4\", \"9\", \"13\", \"17\", \"20\", \"22\", \"23\", \"25\", \"26\", \"27\", \"28\", \"29\", \"30\", \"31\", \"32\", \"34\", \"38\"], \"mode\": \"markers\", \"name\": \"f1_score_weighted\", \"stepped\": false, \"type\": \"scatter\", \"data\": [0.26215368170017284, 0.6029336865782047, 0.18785046109164794, 0.3792841275992931, 0.10061325759098526, 0.10795733931492417, 0.17639265487171496, 0.4166484143908975, 0.11224853370344327, 0.32046891589470844, 0.12053114288614124, 0.1049005646792411, 0.10644999265461386, 0.06310659583666016, 0.0058807489599666295, 0.4365250760053549, 0.11153543215440094, 0.12463758184258593, 0.6025537063517332]}, {\"categories\": [\"0\", \"1\", \"4\", \"9\", \"13\", \"17\", \"20\", \"22\", \"23\", \"25\", \"26\", \"27\", \"28\", \"29\", \"30\", \"31\", \"32\", \"34\", \"38\"], \"mode\": \"lines\", \"name\": \"f1_score_weighted_max\", \"stepped\": true, \"type\": \"scatter\", \"data\": [0.26215368170017284, 0.6029336865782047, 0.6029336865782047, 0.6029336865782047, 0.6029336865782047, 0.6029336865782047, 0.6029336865782047, 0.6029336865782047, 0.6029336865782047, 0.6029336865782047, 0.6029336865782047, 0.6029336865782047, 0.6029336865782047, 0.6029336865782047, 0.6029336865782047, 0.6029336865782047, 0.6029336865782047, 0.6029336865782047, 0.6029336865782047]}], \"f1_score_micro\": [{\"categories\": [\"0\", \"1\", \"4\", \"9\", \"13\", \"17\", \"20\", \"22\", \"23\", \"25\", \"26\", \"27\", \"28\", \"29\", \"30\", \"31\", \"32\", \"34\", \"38\"], \"mode\": \"markers\", \"name\": \"f1_score_micro\", \"stepped\": false, \"type\": \"scatter\", \"data\": [0.27869877996496495, 0.6076106925901793, 0.26373225900279545, 0.41451731628000843, 0.11410931204741374, 0.19134908080960802, 0.16611973804379, 0.4434337941771991, 0.15272710589555155, 0.36542052822004795, 0.202989394330791, 0.15913046485090884, 0.16359482623603042, 0.13196381954157888, 0.05569586610102495, 0.4546877546071391, 0.1907646355952448, 0.2018287530321203, 0.608192877768911]}, {\"categories\": [\"0\", \"1\", \"4\", \"9\", \"13\", \"17\", \"20\", \"22\", \"23\", \"25\", \"26\", \"27\", \"28\", \"29\", \"30\", \"31\", \"32\", \"34\", \"38\"], \"mode\": \"lines\", \"name\": \"f1_score_micro_max\", \"stepped\": true, \"type\": \"scatter\", \"data\": [0.27869877996496495, 0.6076106925901793, 0.6076106925901793, 0.6076106925901793, 0.6076106925901793, 0.6076106925901793, 0.6076106925901793, 0.6076106925901793, 0.6076106925901793, 0.6076106925901793, 0.6076106925901793, 0.6076106925901793, 0.6076106925901793, 0.6076106925901793, 0.6076106925901793, 0.6076106925901793, 0.6076106925901793, 0.6076106925901793, 0.608192877768911]}], \"log_loss\": [{\"categories\": [\"0\", \"1\", \"4\", \"9\", \"13\", \"17\", \"20\", \"22\", \"23\", \"25\", \"26\", \"27\", \"28\", \"29\", \"30\", \"31\", \"32\", \"34\", \"38\"], \"mode\": \"markers\", \"name\": \"log_loss\", \"stepped\": false, \"type\": \"scatter\", \"data\": [13.946430895042768, 2.498856373556459, 3.3963002606017922, 2.8107616870977004, 10.463765816678725, 3.630260321613118, 3.6533739294964924, 2.834931596281884, 8.103956435135897, 3.255180475424131, 3.7320066958017044, 3.6880707133253305, 3.7121766268507845, 3.829693696755776, 4.194599171607645, 2.68329498283488, 3.6641878769812952, 3.727473174017248, 2.385563057390013]}, {\"categories\": [\"0\", \"1\", \"4\", \"9\", \"13\", \"17\", \"20\", \"22\", \"23\", \"25\", \"26\", \"27\", \"28\", \"29\", \"30\", \"31\", \"32\", \"34\", \"38\"], \"mode\": \"lines\", \"name\": \"log_loss_min\", \"stepped\": true, \"type\": \"scatter\", \"data\": [13.946430895042768, 2.498856373556459, 2.498856373556459, 2.498856373556459, 2.498856373556459, 2.498856373556459, 2.498856373556459, 2.498856373556459, 2.498856373556459, 2.498856373556459, 2.498856373556459, 2.498856373556459, 2.498856373556459, 2.498856373556459, 2.498856373556459, 2.498856373556459, 2.498856373556459, 2.498856373556459, 2.385563057390013]}], \"AUC_micro\": [{\"categories\": [\"0\", \"1\", \"4\", \"9\", \"13\", \"17\", \"20\", \"22\", \"23\", \"25\", \"26\", \"27\", \"28\", \"29\", \"30\", \"31\", \"32\", \"34\", \"38\"], \"mode\": \"markers\", \"name\": \"AUC_micro\", \"stepped\": false, \"type\": \"scatter\", \"data\": [0.7528653577538567, 0.8927107366724009, 0.8058569684975092, 0.8641261290827762, 0.721630865349666, 0.8049355851978425, 0.7852190653988821, 0.8658037754426484, 0.7042816585949021, 0.8121524304290597, 0.7692945635694554, 0.7901202423324162, 0.7912204953061351, 0.7783165778418294, 0.6990547965979231, 0.8668622748513698, 0.7767367686647786, 0.7738992102252538, 0.8799551084809879]}, {\"categories\": [\"0\", \"1\", \"4\", \"9\", \"13\", \"17\", \"20\", \"22\", \"23\", \"25\", \"26\", \"27\", \"28\", \"29\", \"30\", \"31\", \"32\", \"34\", \"38\"], \"mode\": \"lines\", \"name\": \"AUC_micro_max\", \"stepped\": true, \"type\": \"scatter\", \"data\": [0.7528653577538567, 0.8927107366724009, 0.8927107366724009, 0.8927107366724009, 0.8927107366724009, 0.8927107366724009, 0.8927107366724009, 0.8927107366724009, 0.8927107366724009, 0.8927107366724009, 0.8927107366724009, 0.8927107366724009, 0.8927107366724009, 0.8927107366724009, 0.8927107366724009, 0.8927107366724009, 0.8927107366724009, 0.8927107366724009, 0.8927107366724009]}], \"AUC_weighted\": [{\"categories\": [\"0\", \"1\", \"4\", \"9\", \"13\", \"17\", \"20\", \"22\", \"23\", \"25\", \"26\", \"27\", \"28\", \"29\", \"30\", \"31\", \"32\", \"34\", \"38\"], \"mode\": \"markers\", \"name\": \"AUC_weighted\", \"stepped\": false, \"type\": \"scatter\", \"data\": [0.7370434506955031, 0.8800634779562934, 0.7820467238894264, 0.8442024636777522, 0.6992549482583325, 0.7674000417382292, 0.7714962565295505, 0.8456424570005204, 0.6648260699075674, 0.798950975947755, 0.7564424407490553, 0.7189019092203845, 0.7214244421054291, 0.7089462317170342, 0.5, 0.8487651476717493, 0.7394003312158614, 0.7497605554031269, 0.8629235643014117]}, {\"categories\": [\"0\", \"1\", \"4\", \"9\", \"13\", \"17\", \"20\", \"22\", \"23\", \"25\", \"26\", \"27\", \"28\", \"29\", \"30\", \"31\", \"32\", \"34\", \"38\"], \"mode\": \"lines\", \"name\": \"AUC_weighted_max\", \"stepped\": true, \"type\": \"scatter\", \"data\": [0.7370434506955031, 0.8800634779562934, 0.8800634779562934, 0.8800634779562934, 0.8800634779562934, 0.8800634779562934, 0.8800634779562934, 0.8800634779562934, 0.8800634779562934, 0.8800634779562934, 0.8800634779562934, 0.8800634779562934, 0.8800634779562934, 0.8800634779562934, 0.8800634779562934, 0.8800634779562934, 0.8800634779562934, 0.8800634779562934, 0.8800634779562934]}], \"AUC_macro\": [{\"categories\": [\"0\", \"1\", \"4\", \"9\", \"13\", \"17\", \"20\", \"22\", \"23\", \"25\", \"26\", \"27\", \"28\", \"29\", \"30\", \"31\", \"32\", \"34\", \"38\"], \"mode\": \"markers\", \"name\": \"AUC_macro\", \"stepped\": false, \"type\": \"scatter\", \"data\": [0.7158057447615181, 0.8502966619175979, 0.7255327376449766, 0.8088180308186, 0.6699941412693496, 0.743592455777458, 0.739218670840767, 0.8088147713063284, 0.6299186864471219, 0.7512769855159203, 0.7037878130981686, 0.6929612095559418, 0.7008909985923667, 0.6889518187321334, 0.5, 0.8099292906331383, 0.6838745964285063, 0.7025476908046522, 0.8280790797691799]}, {\"categories\": [\"0\", \"1\", \"4\", \"9\", \"13\", \"17\", \"20\", \"22\", \"23\", \"25\", \"26\", \"27\", \"28\", \"29\", \"30\", \"31\", \"32\", \"34\", \"38\"], \"mode\": \"lines\", \"name\": \"AUC_macro_max\", \"stepped\": true, \"type\": \"scatter\", \"data\": [0.7158057447615181, 0.8502966619175979, 0.8502966619175979, 0.8502966619175979, 0.8502966619175979, 0.8502966619175979, 0.8502966619175979, 0.8502966619175979, 0.8502966619175979, 0.8502966619175979, 0.8502966619175979, 0.8502966619175979, 0.8502966619175979, 0.8502966619175979, 0.8502966619175979, 0.8502966619175979, 0.8502966619175979, 0.8502966619175979, 0.8502966619175979]}], \"weighted_accuracy\": [{\"categories\": [\"0\", \"1\", \"4\", \"9\", \"13\", \"17\", \"20\", \"22\", \"23\", \"25\", \"26\", \"27\", \"28\", \"29\", \"30\", \"31\", \"32\", \"34\", \"38\"], \"mode\": \"markers\", \"name\": \"weighted_accuracy\", \"stepped\": false, \"type\": \"scatter\", \"data\": [0.3747298655607543, 0.7036852671575121, 0.4579890658009543, 0.5733961482714375, 0.14762746230972737, 0.37108165120328834, 0.20295154897342949, 0.5870960828282971, 0.2717067309016125, 0.545159404874294, 0.392109167093224, 0.2945207850370029, 0.2991038039827581, 0.30484512978074907, 0.14154535392954318, 0.5913667376796719, 0.37044997212498254, 0.3826997559025728, 0.7061254955983275]}, {\"categories\": [\"0\", \"1\", \"4\", \"9\", \"13\", \"17\", \"20\", \"22\", \"23\", \"25\", \"26\", \"27\", \"28\", \"29\", \"30\", \"31\", \"32\", \"34\", \"38\"], \"mode\": \"lines\", \"name\": \"weighted_accuracy_max\", \"stepped\": true, \"type\": \"scatter\", \"data\": [0.3747298655607543, 0.7036852671575121, 0.7036852671575121, 0.7036852671575121, 0.7036852671575121, 0.7036852671575121, 0.7036852671575121, 0.7036852671575121, 0.7036852671575121, 0.7036852671575121, 0.7036852671575121, 0.7036852671575121, 0.7036852671575121, 0.7036852671575121, 0.7036852671575121, 0.7036852671575121, 0.7036852671575121, 0.7036852671575121, 0.7061254955983275]}], \"f1_score_macro\": [{\"categories\": [\"0\", \"1\", \"4\", \"9\", \"13\", \"17\", \"20\", \"22\", \"23\", \"25\", \"26\", \"27\", \"28\", \"29\", \"30\", \"31\", \"32\", \"34\", \"38\"], \"mode\": \"markers\", \"name\": \"f1_score_macro\", \"stepped\": false, \"type\": \"scatter\", \"data\": [0.18690135237472658, 0.5181106725991328, 0.08411067694922213, 0.27682129449751064, 0.061399713954579355, 0.0459309821264706, 0.120241889141888, 0.33366262617587833, 0.058746647318464205, 0.21837286919873009, 0.05099643796405132, 0.04870659272370764, 0.055787946643590554, 0.01496439374305907, 0.001226871898163759, 0.3462455727205611, 0.04292987561201853, 0.05381484188559154, 0.5184334421034507]}, {\"categories\": [\"0\", \"1\", \"4\", \"9\", \"13\", \"17\", \"20\", \"22\", \"23\", \"25\", \"26\", \"27\", \"28\", \"29\", \"30\", \"31\", \"32\", \"34\", \"38\"], \"mode\": \"lines\", \"name\": \"f1_score_macro_max\", \"stepped\": true, \"type\": \"scatter\", \"data\": [0.18690135237472658, 0.5181106725991328, 0.5181106725991328, 0.5181106725991328, 0.5181106725991328, 0.5181106725991328, 0.5181106725991328, 0.5181106725991328, 0.5181106725991328, 0.5181106725991328, 0.5181106725991328, 0.5181106725991328, 0.5181106725991328, 0.5181106725991328, 0.5181106725991328, 0.5181106725991328, 0.5181106725991328, 0.5181106725991328, 0.5184334421034507]}], \"average_precision_score_micro\": [{\"categories\": [\"0\", \"1\", \"4\", \"9\", \"13\", \"17\", \"20\", \"22\", \"23\", \"25\", \"26\", \"27\", \"28\", \"29\", \"30\", \"31\", \"32\", \"34\", \"38\"], \"mode\": \"markers\", \"name\": \"average_precision_score_micro\", \"stepped\": false, \"type\": \"scatter\", \"data\": [0.2541496542642163, 0.6014214929038123, 0.2511404170867702, 0.4320209882253397, 0.09686712798796267, 0.1677982878819527, 0.18140959335982, 0.454055246521827, 0.09172036114942383, 0.3717570407121818, 0.16511696749396568, 0.1468664274321415, 0.15045048521605245, 0.11022714047585291, 0.030708144969114653, 0.47375709294471974, 0.16571606757738033, 0.1559113260515563, 0.5928917829755779]}, {\"categories\": [\"0\", \"1\", \"4\", \"9\", \"13\", \"17\", \"20\", \"22\", \"23\", \"25\", \"26\", \"27\", \"28\", \"29\", \"30\", \"31\", \"32\", \"34\", \"38\"], \"mode\": \"lines\", \"name\": \"average_precision_score_micro_max\", \"stepped\": true, \"type\": \"scatter\", \"data\": [0.2541496542642163, 0.6014214929038123, 0.6014214929038123, 0.6014214929038123, 0.6014214929038123, 0.6014214929038123, 0.6014214929038123, 0.6014214929038123, 0.6014214929038123, 0.6014214929038123, 0.6014214929038123, 0.6014214929038123, 0.6014214929038123, 0.6014214929038123, 0.6014214929038123, 0.6014214929038123, 0.6014214929038123, 0.6014214929038123, 0.6014214929038123]}], \"precision_score_weighted\": [{\"categories\": [\"0\", \"1\", \"4\", \"9\", \"13\", \"17\", \"20\", \"22\", \"23\", \"25\", \"26\", \"27\", \"28\", \"29\", \"30\", \"31\", \"32\", \"34\", \"38\"], \"mode\": \"markers\", \"name\": \"precision_score_weighted\", \"stepped\": false, \"type\": \"scatter\", \"data\": [0.27448737312203664, 0.6178500682207498, 0.1690137905660075, 0.41864872777766, 0.126965705997974, 0.09929054500079705, 0.28064829975089567, 0.48010930404797464, 0.10667193088628933, 0.38313209967913137, 0.11303332997257981, 0.09705139145703605, 0.1005757475454826, 0.048840689200071036, 0.003104380765686634, 0.4753269650578349, 0.08992803414326163, 0.1269097124550412, 0.6167247284144944]}, {\"categories\": [\"0\", \"1\", \"4\", \"9\", \"13\", \"17\", \"20\", \"22\", \"23\", \"25\", \"26\", \"27\", \"28\", \"29\", \"30\", \"31\", \"32\", \"34\", \"38\"], \"mode\": \"lines\", \"name\": \"precision_score_weighted_max\", \"stepped\": true, \"type\": \"scatter\", \"data\": [0.27448737312203664, 0.6178500682207498, 0.6178500682207498, 0.6178500682207498, 0.6178500682207498, 0.6178500682207498, 0.6178500682207498, 0.6178500682207498, 0.6178500682207498, 0.6178500682207498, 0.6178500682207498, 0.6178500682207498, 0.6178500682207498, 0.6178500682207498, 0.6178500682207498, 0.6178500682207498, 0.6178500682207498, 0.6178500682207498, 0.6178500682207498]}], \"average_precision_score_weighted\": [{\"categories\": [\"0\", \"1\", \"4\", \"9\", \"13\", \"17\", \"20\", \"22\", \"23\", \"25\", \"26\", \"27\", \"28\", \"29\", \"30\", \"31\", \"32\", \"34\", \"38\"], \"mode\": \"markers\", \"name\": \"average_precision_score_weighted\", \"stepped\": false, \"type\": \"scatter\", \"data\": [0.2686102051313339, 0.5984453437260532, 0.2515108638440964, 0.44703901096554205, 0.13124060310344918, 0.1963030309485706, 0.25980931547086494, 0.466900959162798, 0.12329295259526096, 0.37835135800839054, 0.22757540110365326, 0.13152751794545664, 0.13470257339576988, 0.12246822161126436, 0.02192764970409832, 0.47962146312867376, 0.16289956601435884, 0.22893734586579995, 0.5921786600154514]}, {\"categories\": [\"0\", \"1\", \"4\", \"9\", \"13\", \"17\", \"20\", \"22\", \"23\", \"25\", \"26\", \"27\", \"28\", \"29\", \"30\", \"31\", \"32\", \"34\", \"38\"], \"mode\": \"lines\", \"name\": \"average_precision_score_weighted_max\", \"stepped\": true, \"type\": \"scatter\", \"data\": [0.2686102051313339, 0.5984453437260532, 0.5984453437260532, 0.5984453437260532, 0.5984453437260532, 0.5984453437260532, 0.5984453437260532, 0.5984453437260532, 0.5984453437260532, 0.5984453437260532, 0.5984453437260532, 0.5984453437260532, 0.5984453437260532, 0.5984453437260532, 0.5984453437260532, 0.5984453437260532, 0.5984453437260532, 0.5984453437260532, 0.5984453437260532]}], \"precision_score_micro\": [{\"categories\": [\"0\", \"1\", \"4\", \"9\", \"13\", \"17\", \"20\", \"22\", \"23\", \"25\", \"26\", \"27\", \"28\", \"29\", \"30\", \"31\", \"32\", \"34\", \"38\"], \"mode\": \"markers\", \"name\": \"precision_score_micro\", \"stepped\": false, \"type\": \"scatter\", \"data\": [0.2786987799649649, 0.6076106925901793, 0.26373225900279545, 0.41451731628000843, 0.11410931204741374, 0.19134908080960802, 0.16611973804379, 0.443433794177199, 0.15272710589555155, 0.36542052822004795, 0.20298939433079102, 0.15913046485090884, 0.16359482623603042, 0.13196381954157888, 0.05569586610102495, 0.4546877546071391, 0.1907646355952448, 0.20182875303212033, 0.608192877768911]}, {\"categories\": [\"0\", \"1\", \"4\", \"9\", \"13\", \"17\", \"20\", \"22\", \"23\", \"25\", \"26\", \"27\", \"28\", \"29\", \"30\", \"31\", \"32\", \"34\", \"38\"], \"mode\": \"lines\", \"name\": \"precision_score_micro_max\", \"stepped\": true, \"type\": \"scatter\", \"data\": [0.2786987799649649, 0.6076106925901793, 0.6076106925901793, 0.6076106925901793, 0.6076106925901793, 0.6076106925901793, 0.6076106925901793, 0.6076106925901793, 0.6076106925901793, 0.6076106925901793, 0.6076106925901793, 0.6076106925901793, 0.6076106925901793, 0.6076106925901793, 0.6076106925901793, 0.6076106925901793, 0.6076106925901793, 0.6076106925901793, 0.608192877768911]}], \"balanced_accuracy\": [{\"categories\": [\"0\", \"1\", \"4\", \"9\", \"13\", \"17\", \"20\", \"22\", \"23\", \"25\", \"26\", \"27\", \"28\", \"29\", \"30\", \"31\", \"32\", \"34\", \"38\"], \"mode\": \"markers\", \"name\": \"balanced_accuracy\", \"stepped\": false, \"type\": \"scatter\", \"data\": [0.19504335558874128, 0.5163351293154169, 0.1117197698987169, 0.2700865631851306, 0.09923304602232645, 0.07285764587290605, 0.15694557284296765, 0.3135702056932171, 0.0819511574845284, 0.20830323178776564, 0.07329128944752704, 0.07539791751769578, 0.0834842044061076, 0.03126068693569814, 0.011627906976744186, 0.33198920322412245, 0.07234853509850732, 0.07545781391423671, 0.5156578056427051]}, {\"categories\": [\"0\", \"1\", \"4\", \"9\", \"13\", \"17\", \"20\", \"22\", \"23\", \"25\", \"26\", \"27\", \"28\", \"29\", \"30\", \"31\", \"32\", \"34\", \"38\"], \"mode\": \"lines\", \"name\": \"balanced_accuracy_max\", \"stepped\": true, \"type\": \"scatter\", \"data\": [0.19504335558874128, 0.5163351293154169, 0.5163351293154169, 0.5163351293154169, 0.5163351293154169, 0.5163351293154169, 0.5163351293154169, 0.5163351293154169, 0.5163351293154169, 0.5163351293154169, 0.5163351293154169, 0.5163351293154169, 0.5163351293154169, 0.5163351293154169, 0.5163351293154169, 0.5163351293154169, 0.5163351293154169, 0.5163351293154169, 0.5163351293154169]}], \"matthews_correlation\": [{\"categories\": [\"0\", \"1\", \"4\", \"9\", \"13\", \"17\", \"20\", \"22\", \"23\", \"25\", \"26\", \"27\", \"28\", \"29\", \"30\", \"31\", \"32\", \"34\", \"38\"], \"mode\": \"markers\", \"name\": \"matthews_correlation\", \"stepped\": false, \"type\": \"scatter\", \"data\": [0.25986809027015556, 0.5987839878668052, 0.24096485532481915, 0.39928624487226916, 0.10506799490629676, 0.166058890495693, 0.15830758403330367, 0.42917037999386043, 0.1284089141033987, 0.3492423524347866, 0.17487839730622032, 0.1352287487527485, 0.13961368936713323, 0.10326324292857608, 0.0, 0.4411594577504392, 0.16381781603678958, 0.17446202538831632, 0.5993033389058394]}, {\"categories\": [\"0\", \"1\", \"4\", \"9\", \"13\", \"17\", \"20\", \"22\", \"23\", \"25\", \"26\", \"27\", \"28\", \"29\", \"30\", \"31\", \"32\", \"34\", \"38\"], \"mode\": \"lines\", \"name\": \"matthews_correlation_max\", \"stepped\": true, \"type\": \"scatter\", \"data\": [0.25986809027015556, 0.5987839878668052, 0.5987839878668052, 0.5987839878668052, 0.5987839878668052, 0.5987839878668052, 0.5987839878668052, 0.5987839878668052, 0.5987839878668052, 0.5987839878668052, 0.5987839878668052, 0.5987839878668052, 0.5987839878668052, 0.5987839878668052, 0.5987839878668052, 0.5987839878668052, 0.5987839878668052, 0.5987839878668052, 0.5993033389058394]}], \"precision_score_macro\": [{\"categories\": [\"0\", \"1\", \"4\", \"9\", \"13\", \"17\", \"20\", \"22\", \"23\", \"25\", \"26\", \"27\", \"28\", \"29\", \"30\", \"31\", \"32\", \"34\", \"38\"], \"mode\": \"markers\", \"name\": \"precision_score_macro\", \"stepped\": false, \"type\": \"scatter\", \"data\": [0.2044948498318729, 0.5503590481339772, 0.08212639880416416, 0.36528540205780313, 0.06412833245116421, 0.04847025861353099, 0.14398184262241995, 0.46718553401419877, 0.06362660906752199, 0.30703545898880075, 0.05352692190732253, 0.04663070549434809, 0.05493659236263274, 0.011718948480417402, 0.000647626350011918, 0.4370963802788695, 0.03670978287432283, 0.06168603656684377, 0.552016366700817]}, {\"categories\": [\"0\", \"1\", \"4\", \"9\", \"13\", \"17\", \"20\", \"22\", \"23\", \"25\", \"26\", \"27\", \"28\", \"29\", \"30\", \"31\", \"32\", \"34\", \"38\"], \"mode\": \"lines\", \"name\": \"precision_score_macro_max\", \"stepped\": true, \"type\": \"scatter\", \"data\": [0.2044948498318729, 0.5503590481339772, 0.5503590481339772, 0.5503590481339772, 0.5503590481339772, 0.5503590481339772, 0.5503590481339772, 0.5503590481339772, 0.5503590481339772, 0.5503590481339772, 0.5503590481339772, 0.5503590481339772, 0.5503590481339772, 0.5503590481339772, 0.5503590481339772, 0.5503590481339772, 0.5503590481339772, 0.5503590481339772, 0.552016366700817]}], \"norm_macro_recall\": [{\"categories\": [\"0\", \"1\", \"4\", \"9\", \"13\", \"17\", \"20\", \"22\", \"23\", \"25\", \"26\", \"27\", \"28\", \"29\", \"30\", \"31\", \"32\", \"34\", \"38\"], \"mode\": \"markers\", \"name\": \"norm_macro_recall\", \"stepped\": false, \"type\": \"scatter\", \"data\": [0.18557327741919705, 0.5106449543661866, 0.1012694142504665, 0.26149934628142624, 0.08863578774023617, 0.06195008876552847, 0.14702728546464963, 0.3054945610543138, 0.0711505828666993, 0.19898915216173932, 0.06238883402926265, 0.06452024595908046, 0.07270166563441473, 0.019863753840824002, 0.0, 0.32413025267381806, 0.06143498845260742, 0.06458084701911009, 0.5099596621796781]}, {\"categories\": [\"0\", \"1\", \"4\", \"9\", \"13\", \"17\", \"20\", \"22\", \"23\", \"25\", \"26\", \"27\", \"28\", \"29\", \"30\", \"31\", \"32\", \"34\", \"38\"], \"mode\": \"lines\", \"name\": \"norm_macro_recall_max\", \"stepped\": true, \"type\": \"scatter\", \"data\": [0.18557327741919705, 0.5106449543661866, 0.5106449543661866, 0.5106449543661866, 0.5106449543661866, 0.5106449543661866, 0.5106449543661866, 0.5106449543661866, 0.5106449543661866, 0.5106449543661866, 0.5106449543661866, 0.5106449543661866, 0.5106449543661866, 0.5106449543661866, 0.5106449543661866, 0.5106449543661866, 0.5106449543661866, 0.5106449543661866, 0.5106449543661866]}], \"average_precision_score_macro\": [{\"categories\": [\"0\", \"1\", \"4\", \"9\", \"13\", \"17\", \"20\", \"22\", \"23\", \"25\", \"26\", \"27\", \"28\", \"29\", \"30\", \"31\", \"32\", \"34\", \"38\"], \"mode\": \"markers\", \"name\": \"average_precision_score_macro\", \"stepped\": false, \"type\": \"scatter\", \"data\": [0.18558007669654053, 0.49065164203251105, 0.13200975684630975, 0.31915294054024784, 0.07562388221297807, 0.12090017055284842, 0.1846631283634299, 0.35419684437034465, 0.07241917481016347, 0.2354656678178421, 0.13384534489208932, 0.0726480485938024, 0.07659556917498683, 0.06847745004390626, 0.011627906976744186, 0.3626403812383936, 0.07746200693908373, 0.1461364794307002, 0.48702177251950163]}, {\"categories\": [\"0\", \"1\", \"4\", \"9\", \"13\", \"17\", \"20\", \"22\", \"23\", \"25\", \"26\", \"27\", \"28\", \"29\", \"30\", \"31\", \"32\", \"34\", \"38\"], \"mode\": \"lines\", \"name\": \"average_precision_score_macro_max\", \"stepped\": true, \"type\": \"scatter\", \"data\": [0.18558007669654053, 0.49065164203251105, 0.49065164203251105, 0.49065164203251105, 0.49065164203251105, 0.49065164203251105, 0.49065164203251105, 0.49065164203251105, 0.49065164203251105, 0.49065164203251105, 0.49065164203251105, 0.49065164203251105, 0.49065164203251105, 0.49065164203251105, 0.49065164203251105, 0.49065164203251105, 0.49065164203251105, 0.49065164203251105, 0.49065164203251105]}], \"recall_score_macro\": [{\"categories\": [\"0\", \"1\", \"4\", \"9\", \"13\", \"17\", \"20\", \"22\", \"23\", \"25\", \"26\", \"27\", \"28\", \"29\", \"30\", \"31\", \"32\", \"34\", \"38\"], \"mode\": \"markers\", \"name\": \"recall_score_macro\", \"stepped\": false, \"type\": \"scatter\", \"data\": [0.19504335558874128, 0.5163351293154169, 0.1117197698987169, 0.2700865631851306, 0.09923304602232645, 0.07285764587290605, 0.15694557284296765, 0.3135702056932171, 0.0819511574845284, 0.20830323178776564, 0.07329128944752704, 0.07539791751769578, 0.0834842044061076, 0.03126068693569814, 0.011627906976744186, 0.33198920322412245, 0.07234853509850732, 0.07545781391423671, 0.5156578056427051]}, {\"categories\": [\"0\", \"1\", \"4\", \"9\", \"13\", \"17\", \"20\", \"22\", \"23\", \"25\", \"26\", \"27\", \"28\", \"29\", \"30\", \"31\", \"32\", \"34\", \"38\"], \"mode\": \"lines\", \"name\": \"recall_score_macro_max\", \"stepped\": true, \"type\": \"scatter\", \"data\": [0.19504335558874128, 0.5163351293154169, 0.5163351293154169, 0.5163351293154169, 0.5163351293154169, 0.5163351293154169, 0.5163351293154169, 0.5163351293154169, 0.5163351293154169, 0.5163351293154169, 0.5163351293154169, 0.5163351293154169, 0.5163351293154169, 0.5163351293154169, 0.5163351293154169, 0.5163351293154169, 0.5163351293154169, 0.5163351293154169, 0.5163351293154169]}], \"recall_score_micro\": [{\"categories\": [\"0\", \"1\", \"4\", \"9\", \"13\", \"17\", \"20\", \"22\", \"23\", \"25\", \"26\", \"27\", \"28\", \"29\", \"30\", \"31\", \"32\", \"34\", \"38\"], \"mode\": \"markers\", \"name\": \"recall_score_micro\", \"stepped\": false, \"type\": \"scatter\", \"data\": [0.2786987799649649, 0.6076106925901793, 0.26373225900279545, 0.41451731628000843, 0.11410931204741374, 0.19134908080960802, 0.16611973804379, 0.443433794177199, 0.15272710589555155, 0.36542052822004795, 0.20298939433079102, 0.15913046485090884, 0.16359482623603042, 0.13196381954157888, 0.05569586610102495, 0.4546877546071391, 0.1907646355952448, 0.20182875303212033, 0.608192877768911]}, {\"categories\": [\"0\", \"1\", \"4\", \"9\", \"13\", \"17\", \"20\", \"22\", \"23\", \"25\", \"26\", \"27\", \"28\", \"29\", \"30\", \"31\", \"32\", \"34\", \"38\"], \"mode\": \"lines\", \"name\": \"recall_score_micro_max\", \"stepped\": true, \"type\": \"scatter\", \"data\": [0.2786987799649649, 0.6076106925901793, 0.6076106925901793, 0.6076106925901793, 0.6076106925901793, 0.6076106925901793, 0.6076106925901793, 0.6076106925901793, 0.6076106925901793, 0.6076106925901793, 0.6076106925901793, 0.6076106925901793, 0.6076106925901793, 0.6076106925901793, 0.6076106925901793, 0.6076106925901793, 0.6076106925901793, 0.6076106925901793, 0.608192877768911]}], \"recall_score_weighted\": [{\"categories\": [\"0\", \"1\", \"4\", \"9\", \"13\", \"17\", \"20\", \"22\", \"23\", \"25\", \"26\", \"27\", \"28\", \"29\", \"30\", \"31\", \"32\", \"34\", \"38\"], \"mode\": \"markers\", \"name\": \"recall_score_weighted\", \"stepped\": false, \"type\": \"scatter\", \"data\": [0.2786987799649649, 0.6076106925901793, 0.26373225900279545, 0.41451731628000843, 0.11410931204741374, 0.19134908080960802, 0.16611973804379, 0.443433794177199, 0.15272710589555155, 0.36542052822004795, 0.20298939433079102, 0.15913046485090884, 0.16359482623603042, 0.13196381954157888, 0.05569586610102495, 0.4546877546071391, 0.1907646355952448, 0.20182875303212033, 0.608192877768911]}, {\"categories\": [\"0\", \"1\", \"4\", \"9\", \"13\", \"17\", \"20\", \"22\", \"23\", \"25\", \"26\", \"27\", \"28\", \"29\", \"30\", \"31\", \"32\", \"34\", \"38\"], \"mode\": \"lines\", \"name\": \"recall_score_weighted_max\", \"stepped\": true, \"type\": \"scatter\", \"data\": [0.2786987799649649, 0.6076106925901793, 0.6076106925901793, 0.6076106925901793, 0.6076106925901793, 0.6076106925901793, 0.6076106925901793, 0.6076106925901793, 0.6076106925901793, 0.6076106925901793, 0.6076106925901793, 0.6076106925901793, 0.6076106925901793, 0.6076106925901793, 0.6076106925901793, 0.6076106925901793, 0.6076106925901793, 0.6076106925901793, 0.608192877768911]}]}, \"metricName\": null, \"primaryMetricName\": \"accuracy\", \"showLegend\": false}, \"run_metrics\": [{\"name\": \"experiment_status\", \"run_id\": \"AutoML_0139dc68-2be5-475b-b8b8-fe3a74869270\", \"categories\": [0, 1, 2, 3, 4, 5, 6, 7, 8, 9, 10, 11, 12, 13, 14], \"series\": [{\"data\": [\"DatasetEvaluation\", \"FeaturesGeneration\", \"DatasetFeaturization\", \"DatasetFeaturizationCompleted\", \"DatasetBalancing\", \"DatasetCrossValidationSplit\", \"ModelSelection\", \"BestRunExplainModel\", \"ModelExplanationDataSetSetup\", \"PickSurrogateModel\", \"EngineeredFeatureExplanations\", \"EngineeredFeatureExplanations\", \"RawFeaturesExplanations\", \"RawFeaturesExplanations\", \"BestRunExplainModel\"]}]}, {\"name\": \"experiment_status_description\", \"run_id\": \"AutoML_0139dc68-2be5-475b-b8b8-fe3a74869270\", \"categories\": [0, 1, 2, 3, 4, 5, 6, 7, 8, 9, 10, 11, 12, 13, 14], \"series\": [{\"data\": [\"Gathering dataset statistics.\", \"Generating features for the dataset.\", \"Beginning to fit featurizers and featurize the dataset.\", \"Completed fit featurizers and featurizing the dataset.\", \"Performing class balancing sweeping\", \"Generating individually featurized CV splits.\", \"Beginning model selection.\", \"Best run model explanations started\", \"Model explanations data setup completed\", \"Choosing LightGBM as the surrogate model for explanations\", \"Computation of engineered features started\", \"Computation of engineered features completed\", \"Computation of raw features started\", \"Computation of raw features completed\", \"Best run model explanations completed\"]}]}, {\"name\": \"log_loss\", \"run_id\": \"AutoML_0139dc68-2be5-475b-b8b8-fe3a74869270\", \"categories\": [0], \"series\": [{\"data\": [2.385563057390013]}]}, {\"name\": \"weighted_accuracy\", \"run_id\": \"AutoML_0139dc68-2be5-475b-b8b8-fe3a74869270\", \"categories\": [0], \"series\": [{\"data\": [0.7061254955983275]}]}, {\"name\": \"AUC_micro\", \"run_id\": \"AutoML_0139dc68-2be5-475b-b8b8-fe3a74869270\", \"categories\": [0], \"series\": [{\"data\": [0.8799551084809879]}]}, {\"name\": \"AUC_macro\", \"run_id\": \"AutoML_0139dc68-2be5-475b-b8b8-fe3a74869270\", \"categories\": [0], \"series\": [{\"data\": [0.8280790797691799]}]}, {\"name\": \"norm_macro_recall\", \"run_id\": \"AutoML_0139dc68-2be5-475b-b8b8-fe3a74869270\", \"categories\": [0], \"series\": [{\"data\": [0.5099596621796781]}]}, {\"name\": \"average_precision_score_weighted\", \"run_id\": \"AutoML_0139dc68-2be5-475b-b8b8-fe3a74869270\", \"categories\": [0], \"series\": [{\"data\": [0.5921786600154514]}]}, {\"name\": \"AUC_weighted\", \"run_id\": \"AutoML_0139dc68-2be5-475b-b8b8-fe3a74869270\", \"categories\": [0], \"series\": [{\"data\": [0.8629235643014117]}]}, {\"name\": \"accuracy\", \"run_id\": \"AutoML_0139dc68-2be5-475b-b8b8-fe3a74869270\", \"categories\": [0], \"series\": [{\"data\": [0.608192877768911]}]}, {\"name\": \"recall_score_weighted\", \"run_id\": \"AutoML_0139dc68-2be5-475b-b8b8-fe3a74869270\", \"categories\": [0], \"series\": [{\"data\": [0.608192877768911]}]}, {\"name\": \"f1_score_micro\", \"run_id\": \"AutoML_0139dc68-2be5-475b-b8b8-fe3a74869270\", \"categories\": [0], \"series\": [{\"data\": [0.608192877768911]}]}, {\"name\": \"precision_score_micro\", \"run_id\": \"AutoML_0139dc68-2be5-475b-b8b8-fe3a74869270\", \"categories\": [0], \"series\": [{\"data\": [0.608192877768911]}]}, {\"name\": \"recall_score_micro\", \"run_id\": \"AutoML_0139dc68-2be5-475b-b8b8-fe3a74869270\", \"categories\": [0], \"series\": [{\"data\": [0.608192877768911]}]}, {\"name\": \"precision_score_macro\", \"run_id\": \"AutoML_0139dc68-2be5-475b-b8b8-fe3a74869270\", \"categories\": [0], \"series\": [{\"data\": [0.552016366700817]}]}, {\"name\": \"f1_score_macro\", \"run_id\": \"AutoML_0139dc68-2be5-475b-b8b8-fe3a74869270\", \"categories\": [0], \"series\": [{\"data\": [0.5184334421034507]}]}, {\"name\": \"balanced_accuracy\", \"run_id\": \"AutoML_0139dc68-2be5-475b-b8b8-fe3a74869270\", \"categories\": [0], \"series\": [{\"data\": [0.5156578056427051]}]}, {\"name\": \"average_precision_score_macro\", \"run_id\": \"AutoML_0139dc68-2be5-475b-b8b8-fe3a74869270\", \"categories\": [0], \"series\": [{\"data\": [0.48702177251950163]}]}, {\"name\": \"recall_score_macro\", \"run_id\": \"AutoML_0139dc68-2be5-475b-b8b8-fe3a74869270\", \"categories\": [0], \"series\": [{\"data\": [0.5156578056427051]}]}, {\"name\": \"matthews_correlation\", \"run_id\": \"AutoML_0139dc68-2be5-475b-b8b8-fe3a74869270\", \"categories\": [0], \"series\": [{\"data\": [0.5993033389058394]}]}, {\"name\": \"f1_score_weighted\", \"run_id\": \"AutoML_0139dc68-2be5-475b-b8b8-fe3a74869270\", \"categories\": [0], \"series\": [{\"data\": [0.6025537063517332]}]}, {\"name\": \"average_precision_score_micro\", \"run_id\": \"AutoML_0139dc68-2be5-475b-b8b8-fe3a74869270\", \"categories\": [0], \"series\": [{\"data\": [0.5928917829755779]}]}, {\"name\": \"precision_score_weighted\", \"run_id\": \"AutoML_0139dc68-2be5-475b-b8b8-fe3a74869270\", \"categories\": [0], \"series\": [{\"data\": [0.6167247284144944]}]}], \"run_logs\": \"\\nRun is completed.\", \"graph\": {}, \"widget_settings\": {\"childWidgetDisplay\": \"popup\", \"send_telemetry\": false, \"log_level\": \"INFO\", \"sdk_version\": \"1.51.0\"}, \"loading\": false}"
     },
     "metadata": {},
     "output_type": "display_data"
    },
    {
     "data": {
      "text/plain": [
       "{'runId': 'AutoML_0139dc68-2be5-475b-b8b8-fe3a74869270',\n",
       " 'target': 'stampCluster',\n",
       " 'status': 'Completed',\n",
       " 'startTimeUtc': '2024-02-07T06:07:12.0985Z',\n",
       " 'endTimeUtc': '2024-02-07T06:40:16.830594Z',\n",
       " 'services': {},\n",
       " 'warnings': [{'source': 'JasmineService',\n",
       "   'message': 'No scores improved over last 10 iterations, so experiment stopped early. This early stopping behavior can be disabled by setting enable_early_stopping = False in AutoMLConfig for notebook/python SDK runs.'}],\n",
       " 'properties': {'num_iterations': '1000',\n",
       "  'training_type': 'TrainFull',\n",
       "  'acquisition_function': 'EI',\n",
       "  'primary_metric': 'accuracy',\n",
       "  'train_split': '0',\n",
       "  'acquisition_parameter': '0',\n",
       "  'num_cross_validation': None,\n",
       "  'target': 'stampCluster',\n",
       "  'AMLSettingsJsonString': '{\"path\":null,\"name\":\"stamp_classification\",\"subscription_id\":\"3d1a56d2-7c81-4118-9790-f85d1acf0c77\",\"resource_group\":\"aml-quickstarts-251949\",\"workspace_name\":\"quick-starts-ws-251949\",\"region\":\"westus2\",\"compute_target\":\"stampCluster\",\"spark_service\":null,\"azure_service\":\"remote\",\"many_models\":false,\"pipeline_fetch_max_batch_size\":1,\"enable_batch_run\":true,\"enable_parallel_run\":false,\"num_procs\":null,\"enable_run_restructure\":false,\"start_auxiliary_runs_before_parent_complete\":false,\"enable_code_generation\":true,\"iterations\":1000,\"primary_metric\":\"accuracy\",\"task_type\":\"classification\",\"positive_label\":null,\"data_script\":null,\"test_size\":0.0,\"test_include_predictions_only\":false,\"validation_size\":0.0,\"n_cross_validations\":null,\"y_min\":null,\"y_max\":null,\"num_classes\":null,\"featurization\":\"auto\",\"_ignore_package_version_incompatibilities\":false,\"is_timeseries\":false,\"max_cores_per_iteration\":1,\"max_concurrent_iterations\":5,\"iteration_timeout_minutes\":25,\"mem_in_mb\":null,\"enforce_time_on_windows\":false,\"experiment_timeout_minutes\":210,\"experiment_exit_score\":null,\"partition_column_names\":null,\"whitelist_models\":null,\"blacklist_algos\":[\"TensorFlowLinearClassifier\",\"TensorFlowDNN\"],\"supported_models\":[\"AveragedPerceptronClassifier\",\"TensorFlowDNN\",\"MultinomialNaiveBayes\",\"LinearSVM\",\"SVM\",\"KNN\",\"ExtremeRandomTrees\",\"SGD\",\"LogisticRegression\",\"DecisionTree\",\"RandomForest\",\"LightGBM\",\"TabnetClassifier\",\"BernoulliNaiveBayes\",\"TensorFlowLinearClassifier\",\"XGBoostClassifier\",\"GradientBoosting\"],\"private_models\":[],\"auto_blacklist\":true,\"blacklist_samples_reached\":false,\"exclude_nan_labels\":true,\"verbosity\":20,\"_debug_log\":\"azureml_automl.log\",\"show_warnings\":false,\"model_explainability\":true,\"service_url\":null,\"sdk_url\":null,\"sdk_packages\":null,\"enable_onnx_compatible_models\":false,\"enable_split_onnx_featurizer_estimator_models\":false,\"vm_type\":\"Standard_D3_V2\",\"telemetry_verbosity\":20,\"send_telemetry\":true,\"enable_dnn\":false,\"scenario\":\"AutoML\",\"environment_label\":null,\"save_mlflow\":false,\"enable_categorical_indicators\":false,\"force_text_dnn\":false,\"enable_feature_sweeping\":true,\"enable_early_stopping\":true,\"early_stopping_n_iters\":10,\"arguments\":null,\"dataset_id\":\"eec09ce6-6882-4470-84aa-23a7a4aad796\",\"hyperdrive_config\":null,\"validation_dataset_id\":null,\"run_source\":null,\"metrics\":null,\"enable_metric_confidence\":false,\"enable_ensembling\":true,\"enable_stack_ensembling\":true,\"ensemble_iterations\":15,\"enable_tf\":false,\"enable_subsampling\":null,\"subsample_seed\":null,\"enable_nimbusml\":false,\"enable_streaming\":false,\"force_streaming\":false,\"track_child_runs\":true,\"n_best_runs\":1,\"allowed_private_models\":[],\"label_column_name\":\"code\",\"weight_column_name\":null,\"cv_split_column_names\":null,\"enable_local_managed\":false,\"_local_managed_run_id\":null,\"cost_mode\":1,\"lag_length\":0,\"metric_operation\":\"maximize\",\"preprocess\":true}',\n",
       "  'DataPrepJsonString': '{\\\\\"training_data\\\\\": {\\\\\"datasetId\\\\\": \\\\\"eec09ce6-6882-4470-84aa-23a7a4aad796\\\\\"}, \\\\\"datasets\\\\\": 0}',\n",
       "  'EnableSubsampling': None,\n",
       "  'runTemplate': 'AutoML',\n",
       "  'azureml.runsource': 'automl',\n",
       "  'display_task_type': 'classification',\n",
       "  'dependencies_versions': '{\"azureml-dataprep-native\": \"38.0.0\", \"azureml-dataprep\": \"4.10.8\", \"azureml-dataprep-rslex\": \"2.17.12\", \"azureml-train-automl-runtime\": \"1.51.0.post2\", \"azureml-train-automl-client\": \"1.51.0.post1\", \"azureml-training-tabular\": \"1.51.0.post1\", \"azureml-automl-runtime\": \"1.51.0.post1\", \"azureml-automl-core\": \"1.51.0.post1\", \"azureml-mlflow\": \"1.51.0\", \"azureml-datadrift\": \"1.51.0\", \"azureml-pipeline\": \"1.51.0\", \"azureml-contrib-dataset\": \"1.51.0\", \"azureml-contrib-notebook\": \"1.51.0\", \"azureml-accel-models\": \"1.51.0\", \"azureml-automl-dnn-nlp\": \"1.51.0\", \"azureml-pipeline-core\": \"1.51.0\", \"azureml-responsibleai\": \"1.51.0\", \"azureml-contrib-automl-pipeline-steps\": \"1.51.0\", \"azureml-pipeline-steps\": \"1.51.0\", \"azureml-core\": \"1.51.0\", \"azureml-contrib-reinforcementlearning\": \"1.51.0\", \"azureml-contrib-server\": \"1.51.0\", \"azureml-opendatasets\": \"1.51.0\", \"azureml-contrib-services\": \"1.51.0\", \"azureml-telemetry\": \"1.51.0\", \"azureml-train-restclients-hyperdrive\": \"1.51.0\", \"azureml-interpret\": \"1.51.0\", \"azureml-train-core\": \"1.51.0\", \"azureml-tensorboard\": \"1.51.0\", \"azureml-train\": \"1.51.0\", \"azureml-contrib-pipeline-steps\": \"1.51.0\", \"azureml-explain-model\": \"1.51.0\", \"azureml-cli-common\": \"1.51.0\", \"azureml-widgets\": \"1.51.0\", \"azureml-train-automl\": \"1.51.0\", \"azureml-defaults\": \"1.51.0\", \"azureml-contrib-fairness\": \"1.51.0\", \"azureml-sdk\": \"1.51.0\", \"azureml-dataset-runtime\": \"1.51.0\", \"azureml-inference-server-http\": \"0.8.4\"}',\n",
       "  '_aml_system_scenario_identification': 'Remote.Parent',\n",
       "  'ClientType': 'SDK',\n",
       "  'PlatformVersion': 'DPV1',\n",
       "  'environment_cpu_name': 'AzureML-AutoML',\n",
       "  'environment_cpu_label': 'scikit-upgrade2',\n",
       "  'environment_gpu_name': 'AzureML-AutoML-GPU',\n",
       "  'environment_gpu_label': 'scikit-upgrade2',\n",
       "  'root_attribution': 'automl',\n",
       "  'attribution': 'AutoML',\n",
       "  'Orchestrator': 'AutoML',\n",
       "  'CancelUri': 'https://westus2.api.azureml.ms/jasmine/v1.0/subscriptions/3d1a56d2-7c81-4118-9790-f85d1acf0c77/resourceGroups/aml-quickstarts-251949/providers/Microsoft.MachineLearningServices/workspaces/quick-starts-ws-251949/experimentids/1bf8c10f-8174-4d14-bf15-03124d3f4d18/cancel/AutoML_0139dc68-2be5-475b-b8b8-fe3a74869270',\n",
       "  'ClientSdkVersion': None,\n",
       "  'snapshotId': '00000000-0000-0000-0000-000000000000',\n",
       "  'SetupRunId': 'AutoML_0139dc68-2be5-475b-b8b8-fe3a74869270_setup',\n",
       "  'SetupRunContainerId': 'dcid.AutoML_0139dc68-2be5-475b-b8b8-fe3a74869270_setup',\n",
       "  'FeaturizationRunJsonPath': 'featurizer_container.json',\n",
       "  'FeaturizationRunId': 'AutoML_0139dc68-2be5-475b-b8b8-fe3a74869270_featurize',\n",
       "  'ProblemInfoJsonString': '{\"dataset_num_categorical\": 0, \"is_sparse\": true, \"subsampling\": false, \"has_extra_col\": true, \"dataset_classes\": 86, \"dataset_features\": 282, \"dataset_samples\": 5153, \"single_frequency_class_detected\": false}',\n",
       "  'ModelExplainRunId': 'AutoML_0139dc68-2be5-475b-b8b8-fe3a74869270_ModelExplain'},\n",
       " 'inputDatasets': [{'dataset': {'id': 'eec09ce6-6882-4470-84aa-23a7a4aad796'}, 'consumptionDetails': {'type': 'RunInput', 'inputName': 'training_data', 'mechanism': 'Direct'}}],\n",
       " 'outputDatasets': [],\n",
       " 'logFiles': {},\n",
       " 'submittedBy': 'ODL_User 251949'}"
      ]
     },
     "execution_count": 12,
     "metadata": {},
     "output_type": "execute_result"
    }
   ],
   "source": [
    "remote_run.get_details()\n",
    "RunDetails(remote_run).show()\n",
    "remote_run.wait_for_completion(show_output=False)"
   ]
  },
  {
   "cell_type": "markdown",
   "metadata": {},
   "source": [
    "## Best Model\n",
    "\n",
    "TODO: In the cell below, get the best model from the automl experiments and display all the properties of the model.\n",
    "\n"
   ]
  },
  {
   "cell_type": "code",
   "execution_count": 13,
   "metadata": {
    "collapsed": false,
    "gather": {
     "logged": 1598431426111
    },
    "jupyter": {
     "outputs_hidden": false
    },
    "nteract": {
     "transient": {
      "deleting": false
     }
    }
   },
   "outputs": [
    {
     "name": "stdout",
     "output_type": "stream",
     "text": [
      "The best run was: \n",
      "None\n",
      "The best run reported the following metrics: \n",
      "{'precision_score_weighted': 0.6167247284144944, 'recall_score_weighted': 0.608192877768911, 'balanced_accuracy': 0.5156578056427051, 'norm_macro_recall': 0.5099596621796781, 'matthews_correlation': 0.5993033389058394, 'f1_score_macro': 0.5184334421034507, 'precision_score_micro': 0.608192877768911, 'AUC_micro': 0.8799551084809879, 'weighted_accuracy': 0.7061254955983275, 'f1_score_micro': 0.608192877768911, 'average_precision_score_micro': 0.5928917829755779, 'precision_score_macro': 0.552016366700817, 'average_precision_score_macro': 0.48702177251950163, 'recall_score_macro': 0.5156578056427051, 'f1_score_weighted': 0.6025537063517332, 'AUC_weighted': 0.8629235643014117, 'average_precision_score_weighted': 0.5921786600154514, 'accuracy': 0.608192877768911, 'log_loss': 2.385563057390013, 'recall_score_micro': 0.608192877768911, 'AUC_macro': 0.8280790797691799, 'confusion_matrix': 'aml://artifactId/ExperimentRun/dcid.AutoML_0139dc68-2be5-475b-b8b8-fe3a74869270_38/confusion_matrix', 'accuracy_table': 'aml://artifactId/ExperimentRun/dcid.AutoML_0139dc68-2be5-475b-b8b8-fe3a74869270_38/accuracy_table'}\n"
     ]
    }
   ],
   "source": [
    "#TODO: Save the best model\n",
    "results = remote_run.get_best_child()\n",
    "metrics = results.get_metrics()\n",
    "best_run = results.get_details().get('runID')\n",
    "\n",
    "print('The best run was: ')\n",
    "print(best_run)\n",
    "print('The best run reported the following metrics: ')\n",
    "print(metrics)"
   ]
  },
  {
   "cell_type": "markdown",
   "metadata": {},
   "source": [
    "## Model Deployment\n",
    "\n",
    "Remember you have to deploy only one of the two models you trained but you still need to register both the models. Perform the steps in the rest of this notebook only if you wish to deploy this model.\n",
    "\n",
    "TODO: In the cell below, register the model, create an inference config and deploy the model as a web service."
   ]
  },
  {
   "cell_type": "code",
   "execution_count": 14,
   "metadata": {
    "collapsed": false,
    "gather": {
     "logged": 1598431435189
    },
    "jupyter": {
     "outputs_hidden": false
    },
    "nteract": {
     "transient": {
      "deleting": false
     }
    }
   },
   "outputs": [],
   "source": [
    "#register the model\n",
    "model_name = 'StampsAutoML'\n",
    "\n",
    "r_model = remote_run.register_model(model_name = model_name, description = 'The best autoML model')\n"
   ]
  },
  {
   "cell_type": "code",
   "execution_count": 15,
   "metadata": {},
   "outputs": [
    {
     "name": "stdout",
     "output_type": "stream",
     "text": [
      "Tips: You can try get_logs(): https://aka.ms/debugimage#dockerlog or local deployment: https://aka.ms/debugimage#debug-locally to debug if deployment takes longer than 10 minutes.\n",
      "Running\n",
      "2024-02-07 06:40:29+00:00 Creating Container Registry if not exists.\n",
      "2024-02-07 06:40:29+00:00 Registering the environment.\n",
      "2024-02-07 06:40:29+00:00 Use the existing image.\n",
      "2024-02-07 06:40:30+00:00 Submitting deployment to compute.\n",
      "2024-02-07 06:40:36+00:00 Checking the status of deployment stampmodel..\n",
      "2024-02-07 06:44:34+00:00 Checking the status of inference endpoint stampmodel.\n",
      "Succeeded\n",
      "ACI service creation operation finished, operation \"Succeeded\"\n"
     ]
    }
   ],
   "source": [
    "#deploy the model\n",
    "\n",
    "#results.get_properties()\n",
    "env = results.get_environment()\n",
    "scoring = results.get_properties().get('scoring_data_location')\n",
    "\n",
    "results.download_file('outputs/scoring_file_v_1_0_0.py', 'scoring.py')\n",
    "name = 'stampmodel'\n",
    "\n",
    "#or here we dont enable authentication!!!!\n",
    "inference_config = InferenceConfig(entry_script='scoring.py', environment=env)\n",
    "deployment_config = AciWebservice.deploy_configuration(cpu_cores = 1,\n",
    "                                                       memory_gb = 4,\n",
    "                                                       description = 'Stamps',\n",
    "                                                       #auth_enabled=True,\n",
    "                                                       enable_app_insights = True,\n",
    "                                                       collect_model_data=True)\n",
    "service = Model.deploy(ws, name, [r_model], inference_config, deployment_config, overwrite=True)\n",
    "service.wait_for_deployment(show_output=True)\n",
    "                                   \n"
   ]
  },
  {
   "cell_type": "markdown",
   "metadata": {
    "gather": {
     "logged": 1598431657736
    },
    "jupyter": {
     "outputs_hidden": false,
     "source_hidden": false
    },
    "nteract": {
     "transient": {
      "deleting": false
     }
    }
   },
   "source": [
    "TODO: In the cell below, send a request to the web service you deployed to test it."
   ]
  },
  {
   "cell_type": "code",
   "execution_count": 16,
   "metadata": {
    "collapsed": false,
    "gather": {
     "logged": 1598432707604
    },
    "jupyter": {
     "outputs_hidden": false
    },
    "nteract": {
     "transient": {
      "deleting": false
     }
    }
   },
   "outputs": [
    {
     "name": "stdout",
     "output_type": "stream",
     "text": [
      "Swagger URI: http://04431a52-d9ab-4a80-a053-0dcab5aaa30c.westus2.azurecontainer.io/swagger.json\n",
      "Score URI http://04431a52-d9ab-4a80-a053-0dcab5aaa30c.westus2.azurecontainer.io/score\n"
     ]
    },
    {
     "data": {
      "text/plain": [
       "'Healthy'"
      ]
     },
     "execution_count": 16,
     "metadata": {},
     "output_type": "execute_result"
    }
   ],
   "source": [
    "#check deployment\n",
    "\n",
    "print('Swagger URI:', service.swagger_uri)\n",
    "print('Score URI', service.scoring_uri)\n",
    "service.state"
   ]
  },
  {
   "cell_type": "code",
   "execution_count": 26,
   "metadata": {},
   "outputs": [
    {
     "data": {
      "text/plain": [
       "[{'id': 13493,\n",
       "  'lat': -5.666942,\n",
       "  'long': 37.615058,\n",
       "  'site': 'Alcolea del Río',\n",
       "  'province': 'Baetica'}]"
      ]
     },
     "metadata": {},
     "output_type": "display_data"
    }
   ],
   "source": [
    "#get data from original dataset to test endpoint\n",
    "import json\n",
    "test_data = data.drop(columns=['code']).sample(n=1).to_dict(\"records\")\n",
    "json_fil = {\n",
    "    \"data\": test_data,\n",
    "}\n",
    "\n",
    "testdataformat = json.dumps(json_fil)\n",
    "#print(testdataformat)\n",
    "display(test_data)"
   ]
  },
  {
   "cell_type": "code",
   "execution_count": 24,
   "metadata": {},
   "outputs": [
    {
     "name": "stdout",
     "output_type": "stream",
     "text": [
      "{\"result\": [\"CAMILIMELISSI\", \"ACIRGI\", \"PHILO\", \"TATILIASIATICI\", \"IICCLLM\"]}\n"
     ]
    }
   ],
   "source": [
    "import requests\n",
    "headers = {\"Content-Type\": \"application/json\"}\n",
    "response = requests.post(service.scoring_uri, testdataformat, headers=headers)\n",
    "#print(response)\n",
    "print(response.json())"
   ]
  },
  {
   "cell_type": "code",
   "execution_count": 25,
   "metadata": {},
   "outputs": [
    {
     "name": "stdout",
     "output_type": "stream",
     "text": [
      "2024-02-07T06:44:23,431474400+00:00 - rsyslog/run \n",
      "2024-02-07T06:44:23,442250100+00:00 - gunicorn/run \n",
      "2024-02-07T06:44:23,444571500+00:00 | gunicorn/run | \n",
      "2024-02-07T06:44:23,450240100+00:00 | gunicorn/run | ###############################################\n",
      "2024-02-07T06:44:23,452154900+00:00 | gunicorn/run | AzureML Container Runtime Information\n",
      "2024-02-07T06:44:23,459047200+00:00 - nginx/run \n",
      "2024-02-07T06:44:23,460219300+00:00 | gunicorn/run | ###############################################\n",
      "2024-02-07T06:44:23,473826800+00:00 | gunicorn/run | \n",
      "2024-02-07T06:44:23,486772000+00:00 | gunicorn/run | \n",
      "2024-02-07T06:44:23,502065900+00:00 | gunicorn/run | AzureML image information: openmpi4.1.0-ubuntu20.04, Materializaton Build:20230628.v2\n",
      "2024-02-07T06:44:23,514112900+00:00 | gunicorn/run | \n",
      "2024-02-07T06:44:23,525870600+00:00 | gunicorn/run | \n",
      "2024-02-07T06:44:23,532159900+00:00 | gunicorn/run | PATH environment variable: /azureml-envs/azureml-automl/bin:/opt/miniconda/bin:/usr/local/sbin:/usr/local/bin:/usr/sbin:/usr/bin:/sbin:/bin\n",
      "2024-02-07T06:44:23,539539200+00:00 | gunicorn/run | PYTHONPATH environment variable: \n",
      "2024-02-07T06:44:23,542652200+00:00 | gunicorn/run | \n",
      "2024-02-07T06:44:25,187153860+00:00 | gunicorn/run | CONDAPATH environment variable: /opt/miniconda\n",
      "\n",
      "# conda environments:\n",
      "#\n",
      "                         /azureml-envs/azureml-automl\n",
      "base                     /opt/miniconda\n",
      "\n",
      "2024-02-07T06:44:27,322236647+00:00 | gunicorn/run | \n",
      "2024-02-07T06:44:27,326517847+00:00 | gunicorn/run | Pip Dependencies (before dynamic installation)\n",
      "\n",
      "adal==1.2.7\n",
      "applicationinsights==0.11.10\n",
      "arch==5.3.1\n",
      "argcomplete==2.1.2\n",
      "argon2-cffi==21.3.0\n",
      "argon2-cffi-bindings==21.2.0\n",
      "asttokens==2.2.1\n",
      "attrs==23.1.0\n",
      "azure-common==1.1.28\n",
      "azure-core==1.27.1\n",
      "azure-graphrbac==0.61.1\n",
      "azure-identity==1.13.0\n",
      "azure-mgmt-authorization==3.0.0\n",
      "azure-mgmt-containerregistry==10.1.0\n",
      "azure-mgmt-core==1.4.0\n",
      "azure-mgmt-keyvault==10.2.2\n",
      "azure-mgmt-resource==22.0.0\n",
      "azure-mgmt-storage==21.0.0\n",
      "azure-storage-blob==12.13.0\n",
      "azure-storage-queue==12.6.0\n",
      "azureml-automl-core==1.52.0.post1\n",
      "azureml-automl-runtime==1.52.0.post1\n",
      "azureml-core==1.52.0\n",
      "azureml-dataprep==4.11.4\n",
      "azureml-dataprep-native==38.0.0\n",
      "azureml-dataprep-rslex==2.18.4\n",
      "azureml-dataset-runtime==1.52.0\n",
      "azureml-defaults==1.52.0\n",
      "azureml-inference-server-http==0.8.4\n",
      "azureml-interpret==1.52.0\n",
      "azureml-mlflow==1.52.0\n",
      "azureml-pipeline-core==1.52.0\n",
      "azureml-responsibleai==1.52.0\n",
      "azureml-telemetry==1.52.0\n",
      "azureml-train-automl-client==1.52.0\n",
      "azureml-train-automl-runtime==1.52.0\n",
      "azureml-train-core==1.52.0\n",
      "azureml-train-restclients-hyperdrive==1.52.0\n",
      "azureml-training-tabular==1.52.0\n",
      "backcall==0.2.0\n",
      "backports.tempfile==1.0\n",
      "backports.weakref==1.0.post1\n",
      "bcrypt==4.0.1\n",
      "beautifulsoup4==4.12.2\n",
      "bleach==6.0.0\n",
      "bokeh==2.4.3\n",
      "boto==2.49.0\n",
      "boto3==1.20.19\n",
      "botocore==1.23.19\n",
      "Brotli @ file:///home/conda/feedstock_root/build_artifacts/brotli-split_1687884021435/work\n",
      "cachetools==5.3.1\n",
      "certifi==2023.5.7\n",
      "cffi @ file:///home/conda/feedstock_root/build_artifacts/cffi_1671179356964/work\n",
      "charset-normalizer @ file:///home/conda/feedstock_root/build_artifacts/charset-normalizer_1678108872112/work\n",
      "click==8.1.4\n",
      "cloudpickle @ file:///home/conda/feedstock_root/build_artifacts/cloudpickle_1598400192773/work\n",
      "cmdstanpy==0.9.5\n",
      "contextlib2==21.6.0\n",
      "contourpy==1.1.0\n",
      "convertdate @ file:///home/conda/feedstock_root/build_artifacts/convertdate_1642883757836/work\n",
      "cryptography==41.0.0\n",
      "cycler==0.11.0\n",
      "Cython==0.29.17\n",
      "dask==2023.2.0\n",
      "databricks-cli==0.17.7\n",
      "dataclasses==0.6\n",
      "debugpy==1.6.7\n",
      "decorator==5.1.1\n",
      "defusedxml==0.7.1\n",
      "dice-ml==0.9\n",
      "dill==0.3.6\n",
      "distributed==2023.2.0\n",
      "distro==1.8.0\n",
      "docker==6.1.3\n",
      "dotnetcore2==3.1.23\n",
      "econml==0.14.1\n",
      "entrypoints==0.4\n",
      "ephem==4.1.4\n",
      "erroranalysis==0.4.4\n",
      "executing==1.2.0\n",
      "fairlearn==0.8.0\n",
      "fastjsonschema==2.17.1\n",
      "fbprophet==0.7.1\n",
      "fire==0.5.0\n",
      "Flask==2.2.5\n",
      "Flask-Cors==3.0.10\n",
      "flatbuffers==23.5.26\n",
      "fonttools==4.40.0\n",
      "fsspec==2023.6.0\n",
      "fusepy==3.0.1\n",
      "gensim==3.8.3\n",
      "gitdb==4.0.10\n",
      "GitPython==3.1.31\n",
      "google-api-core==2.11.1\n",
      "google-auth==2.21.0\n",
      "googleapis-common-protos==1.59.1\n",
      "gunicorn==20.1.0\n",
      "h5py==3.9.0\n",
      "holidays @ file:///home/conda/feedstock_root/build_artifacts/holidays_1595448845196/work\n",
      "humanfriendly==10.0\n",
      "idna @ file:///home/conda/feedstock_root/build_artifacts/idna_1663625384323/work\n",
      "importlib-metadata==6.8.0\n",
      "importlib-resources==5.13.0\n",
      "inference-schema==1.5.1\n",
      "interpret-community==0.29.0\n",
      "interpret-core==0.3.2\n",
      "ipykernel==6.8.0\n",
      "ipython==8.12.2\n",
      "ipython-genutils==0.2.0\n",
      "isodate==0.6.1\n",
      "itsdangerous==2.1.2\n",
      "jedi==0.18.2\n",
      "jeepney==0.8.0\n",
      "Jinja2==3.1.2\n",
      "jmespath==0.10.0\n",
      "joblib @ file:///home/conda/feedstock_root/build_artifacts/joblib_1663332044897/work\n",
      "jsonpickle==3.0.1\n",
      "jsonschema==4.18.0\n",
      "jsonschema-specifications==2023.6.1\n",
      "jupyter_client==7.4.9\n",
      "jupyter_core==5.3.1\n",
      "jupyterlab-pygments==0.2.2\n",
      "keras2onnx==1.6.0\n",
      "kiwisolver==1.4.4\n",
      "knack==0.10.1\n",
      "korean-lunar-calendar @ file:///home/conda/feedstock_root/build_artifacts/korean_lunar_calendar_1663341251025/work\n",
      "lightgbm==3.2.1\n",
      "llvmlite==0.38.1\n",
      "locket==1.0.0\n",
      "LunarCalendar==0.0.9\n",
      "MarkupSafe==2.1.2\n",
      "matplotlib==3.7.2\n",
      "matplotlib-inline==0.1.6\n",
      "mistune==3.0.1\n",
      "ml-wrappers==0.4.11\n",
      "mlflow-skinny==2.4.1\n",
      "mltable==1.4.1\n",
      "msal==1.22.0\n",
      "msal-extensions==1.0.0\n",
      "msgpack==1.0.5\n",
      "msrest==0.7.1\n",
      "msrestazure==0.6.4\n",
      "nbclient==0.8.0\n",
      "nbconvert==7.6.0\n",
      "nbformat==5.9.0\n",
      "ndg-httpsclient==0.5.1\n",
      "nest-asyncio==1.5.6\n",
      "networkx==2.5\n",
      "notebook==6.4.9\n",
      "numba==0.55.2\n",
      "numpy==1.22.3\n",
      "oauthlib==3.2.2\n",
      "onnx==1.13.1\n",
      "onnxconverter-common==1.6.0\n",
      "onnxmltools==1.4.1\n",
      "onnxruntime==1.11.1\n",
      "opencensus==0.11.2\n",
      "opencensus-context==0.1.3\n",
      "opencensus-ext-azure==1.1.9\n",
      "packaging==23.0\n",
      "pandas==1.1.5\n",
      "pandocfilters==1.5.0\n",
      "paramiko==3.2.0\n",
      "parso==0.8.3\n",
      "partd==1.4.0\n",
      "pathspec==0.11.1\n",
      "patsy==0.5.3\n",
      "pexpect==4.8.0\n",
      "pickleshare==0.7.5\n",
      "Pillow==10.0.0\n",
      "pkginfo==1.9.6\n",
      "pkgutil_resolve_name==1.3.10\n",
      "platformdirs @ file:///home/conda/feedstock_root/build_artifacts/platformdirs_1688739404342/work\n",
      "pmdarima==1.8.0\n",
      "pooch @ file:///home/conda/feedstock_root/build_artifacts/pooch_1679580333621/work\n",
      "portalocker==2.7.0\n",
      "prometheus-client==0.17.0\n",
      "prompt-toolkit==3.0.39\n",
      "property-cached==1.6.4\n",
      "protobuf==3.20.3\n",
      "psutil @ file:///home/conda/feedstock_root/build_artifacts/psutil_1681775007745/work\n",
      "ptyprocess==0.7.0\n",
      "pure-eval==0.2.2\n",
      "py-cpuinfo==5.0.0\n",
      "pyarrow==9.0.0\n",
      "pyasn1==0.5.0\n",
      "pyasn1-modules==0.3.0\n",
      "pycparser @ file:///home/conda/feedstock_root/build_artifacts/pycparser_1636257122734/work\n",
      "pydantic==1.10.11\n",
      "Pygments==2.15.1\n",
      "PyJWT==2.7.0\n",
      "PyMeeus @ file:///home/conda/feedstock_root/build_artifacts/pymeeus_1670868433998/work\n",
      "PyNaCl==1.5.0\n",
      "pyOpenSSL @ file:///home/conda/feedstock_root/build_artifacts/pyopenssl_1685514481738/work\n",
      "pyparsing==3.0.9\n",
      "PySocks @ file:///home/conda/feedstock_root/build_artifacts/pysocks_1661604839144/work\n",
      "pystan==2.19.1.1\n",
      "python-dateutil @ file:///home/conda/feedstock_root/build_artifacts/python-dateutil_1626286286081/work\n",
      "pytz @ file:///home/conda/feedstock_root/build_artifacts/pytz_1680088766131/work\n",
      "PyYAML==6.0\n",
      "pyzmq==25.1.0\n",
      "raiutils==0.4.0\n",
      "referencing==0.29.1\n",
      "requests @ file:///home/conda/feedstock_root/build_artifacts/requests_1684774241324/work\n",
      "requests-oauthlib==1.3.1\n",
      "responsibleai==0.28.0\n",
      "rpds-py==0.8.8\n",
      "rsa==4.9\n",
      "s3transfer==0.5.2\n",
      "scikit-learn==0.22.1\n",
      "scipy==1.5.3\n",
      "SecretStorage==3.3.3\n",
      "semver==2.13.0\n",
      "Send2Trash==1.8.2\n",
      "setuptools-git==1.2\n",
      "shap==0.41.0\n",
      "six @ file:///home/conda/feedstock_root/build_artifacts/six_1620240208055/work\n",
      "skl2onnx==1.4.9\n",
      "sklearn-pandas==1.7.0\n",
      "slicer==0.0.7\n",
      "smart-open==1.9.0\n",
      "smmap==5.0.0\n",
      "sortedcontainers==2.4.0\n",
      "soupsieve==2.4.1\n",
      "sparse==0.14.0\n",
      "sqlparse==0.4.4\n",
      "stack-data==0.6.2\n",
      "statsmodels==0.11.1\n",
      "tabulate==0.9.0\n",
      "tblib==2.0.0\n",
      "termcolor==2.3.0\n",
      "terminado==0.17.1\n",
      "tinycss2==1.2.1\n",
      "toolz==0.12.0\n",
      "tornado==6.3.2\n",
      "tqdm==4.65.0\n",
      "traitlets==5.9.0\n",
      "typing_extensions @ file:///home/conda/feedstock_root/build_artifacts/typing_extensions_1688315532570/work\n",
      "urllib3==1.26.16\n",
      "wcwidth==0.2.6\n",
      "webencodings==0.5.1\n",
      "websocket-client==1.6.1\n",
      "Werkzeug==2.3.6\n",
      "wrapt==1.12.1\n",
      "xgboost==1.3.3\n",
      "zict==3.0.0\n",
      "zipp==3.15.0\n",
      "\n",
      "2024-02-07T06:44:30,539846647+00:00 | gunicorn/run | \n",
      "2024-02-07T06:44:30,553673547+00:00 | gunicorn/run | ###############################################\n",
      "2024-02-07T06:44:30,557623747+00:00 | gunicorn/run | Checking if the Python package azureml-inference-server-http is installed\n",
      "2024-02-07T06:44:30,568425447+00:00 | gunicorn/run | ###############################################\n",
      "2024-02-07T06:44:30,573042047+00:00 | gunicorn/run | \n",
      "2024-02-07T06:44:36,323904050+00:00 | gunicorn/run | \n",
      "2024-02-07T06:44:36,327992146+00:00 | gunicorn/run | ###############################################\n",
      "2024-02-07T06:44:36,334409525+00:00 | gunicorn/run | AzureML Inference Server\n",
      "2024-02-07T06:44:36,339073093+00:00 | gunicorn/run | ###############################################\n",
      "2024-02-07T06:44:36,343475273+00:00 | gunicorn/run | \n",
      "2024-02-07T06:44:41,839175660+00:00 | gunicorn/run | Starting AzureML Inference Server HTTP.\n",
      "2024-02-07 06:44:42,514 I [72] azmlinfsrv - Loaded logging config from /azureml-envs/azureml-automl/lib/python3.8/site-packages/azureml_inference_server_http/logging.json\n",
      "2024-02-07 06:44:43,046 I [72] gunicorn.error - Starting gunicorn 20.1.0\n",
      "2024-02-07 06:44:43,048 I [72] gunicorn.error - Listening at: http://0.0.0.0:31311 (72)\n",
      "2024-02-07 06:44:43,048 I [72] gunicorn.error - Using worker: sync\n",
      "2024-02-07 06:44:43,058 I [155] gunicorn.error - Booting worker with pid: 155\n",
      "Valid Application Insights instrumentation key provided.\n",
      "\n",
      "Azure ML Inferencing HTTP server v0.8.4\n",
      "\n",
      "\n",
      "Server Settings\n",
      "---------------\n",
      "Entry Script Name: /var/azureml-app/main.py\n",
      "Model Directory: /var/azureml-app/azureml-models/StampsAutoML/1\n",
      "Config File: None\n",
      "Worker Count: 1\n",
      "Worker Timeout (seconds): 300\n",
      "Server Port: 31311\n",
      "Health Port: 31311\n",
      "Application Insights Enabled: true\n",
      "Application Insights Key: AppInsights key provided\n",
      "Inferencing HTTP server version: azmlinfsrv/0.8.4\n",
      "CORS for the specified origins: None\n",
      "Create dedicated endpoint for health: None\n",
      "\n",
      "\n",
      "Server Routes\n",
      "---------------\n",
      "Liveness Probe: GET   127.0.0.1:31311/\n",
      "Score:          POST  127.0.0.1:31311/score\n",
      "\n",
      "/azureml-envs/azureml-automl/lib/python3.8/site-packages/azureml_inference_server_http/server/config.py:51: FutureWarning: aliases are no longer used by BaseSettings to define which environment variables to read. Instead use the \"env\" field setting. See https://pydantic-docs.helpmanual.io/usage/settings/#environment-variable-names\n",
      "  class AMLInferenceServerConfig(pydantic.BaseSettings):\n",
      "2024-02-07 06:44:44,389 I [155] azmlinfsrv - AML_FLASK_ONE_COMPATIBILITY is set. Patched Flask to ensure compatibility with Flask 1.\n",
      "WARNING:opencensus.ext.azure.common:DeprecationWarning: Explicitly using instrumentation key isdeprecated. Please use a connection string instead.\n",
      "Initializing logger\n",
      "2024-02-07 06:44:44,394 I [155] azmlinfsrv - Starting up app insights client\n",
      "WARNING:opencensus.ext.azure.common:DeprecationWarning: Explicitly using instrumentation key isdeprecated. Please use a connection string instead.\n",
      "WARNING:opencensus.ext.azure.common:DeprecationWarning: Explicitly using instrumentation key isdeprecated. Please use a connection string instead.\n",
      "2024-02-07 06:44:51,016 I [155] azmlinfsrv.user_script - Found driver script at /var/azureml-app/main.py and the score script at /var/azureml-app/scoring.py\n",
      "2024-02-07 06:44:51,017 I [155] azmlinfsrv.user_script - run() is decorated with @input_schema. Server will invoke it with the following arguments: data, method.\n",
      "2024-02-07 06:44:51,017 I [155] azmlinfsrv.user_script - Invoking user's init function\n",
      "ERROR:fbprophet.plot:Importing plotly failed. Interactive plots will not work.\n",
      "2024-02-07 06:45:09,892 I [155] azmlinfsrv.user_script - Users's init has completed successfully\n",
      "2024-02-07 06:45:09,947 I [155] azmlinfsrv.swagger - Swaggers are prepared for the following versions: [2, 3, 3.1].\n",
      "2024-02-07 06:45:09,948 I [155] azmlinfsrv - Scoring timeout is set to 60000\n",
      "2024-02-07 06:45:09,956 W [155] azmlinfsrv - x-ms-request-id header has been deprecated and will be removed from future versions of the server. Please use x-ms-client-request-id.\n",
      "2024-02-07 06:45:09,959 I [155] gunicorn.access - 127.0.0.1 - - [07/Feb/2024:06:45:09 +0000] \"GET / HTTP/1.0\" 200 7 \"-\" \"Go-http-client/1.1\"\n",
      "2024-02-07 06:45:09,960 W [155] azmlinfsrv - x-ms-request-id header has been deprecated and will be removed from future versions of the server. Please use x-ms-client-request-id.\n",
      "2024-02-07 06:45:09,963 I [155] gunicorn.access - 127.0.0.1 - - [07/Feb/2024:06:45:09 +0000] \"GET / HTTP/1.0\" 200 7 \"-\" \"Go-http-client/1.1\"\n",
      "2024-02-07 06:45:09,968 W [155] azmlinfsrv - x-ms-request-id header has been deprecated and will be removed from future versions of the server. Please use x-ms-client-request-id.\n",
      "2024-02-07 06:45:09,969 I [155] gunicorn.access - 127.0.0.1 - - [07/Feb/2024:06:45:09 +0000] \"GET / HTTP/1.0\" 200 7 \"-\" \"Go-http-client/1.1\"\n",
      "2024-02-07 06:45:09,972 W [155] azmlinfsrv - x-ms-request-id header has been deprecated and will be removed from future versions of the server. Please use x-ms-client-request-id.\n",
      "2024-02-07 06:45:09,979 I [155] gunicorn.access - 127.0.0.1 - - [07/Feb/2024:06:45:09 +0000] \"GET / HTTP/1.0\" 200 7 \"-\" \"Go-http-client/1.1\"\n",
      "2024-02-07 06:45:10,461 I [155] gunicorn.access - 127.0.0.1 - - [07/Feb/2024:06:45:10 +0000] \"GET / HTTP/1.0\" 200 7 \"-\" \"curl/7.58.0\"\n",
      "2024-02-07 06:45:20,932 W [155] azmlinfsrv - x-ms-request-id header has been deprecated and will be removed from future versions of the server. Please use x-ms-client-request-id.\n",
      "2024-02-07 06:45:20,934 I [155] gunicorn.access - 127.0.0.1 - - [07/Feb/2024:06:45:20 +0000] \"GET / HTTP/1.0\" 200 7 \"-\" \"Go-http-client/1.1\"\n",
      "2024-02-07 06:45:20,939 W [155] azmlinfsrv - x-ms-request-id header has been deprecated and will be removed from future versions of the server. Please use x-ms-client-request-id.\n",
      "2024-02-07 06:45:20,940 I [155] azmlinfsrv - GET /swagger.json 200 0.809ms 2799\n",
      "2024-02-07 06:45:20,942 I [155] gunicorn.access - 127.0.0.1 - - [07/Feb/2024:06:45:20 +0000] \"GET /swagger.json HTTP/1.0\" 200 2799 \"-\" \"Go-http-client/1.1\"\n",
      "2024-02-07 06:45:25,596 W [155] azmlinfsrv - x-ms-request-id header has been deprecated and will be removed from future versions of the server. Please use x-ms-client-request-id.\n",
      "2024-02-07 06:45:25,600 I [155] gunicorn.access - 127.0.0.1 - - [07/Feb/2024:06:45:25 +0000] \"GET / HTTP/1.0\" 200 7 \"-\" \"Go-http-client/1.1\"\n",
      "2024-02-07 06:45:25,605 W [155] azmlinfsrv - x-ms-request-id header has been deprecated and will be removed from future versions of the server. Please use x-ms-client-request-id.\n",
      "2024-02-07 06:45:25,606 I [155] azmlinfsrv - GET /swagger.json 200 0.503ms 2799\n",
      "2024-02-07 06:45:25,607 I [155] gunicorn.access - 127.0.0.1 - - [07/Feb/2024:06:45:25 +0000] \"GET /swagger.json HTTP/1.0\" 200 2799 \"-\" \"Go-http-client/1.1\"\n",
      "2024-02-07 06:45:25,808 W [155] azmlinfsrv - x-ms-request-id header has been deprecated and will be removed from future versions of the server. Please use x-ms-client-request-id.\n",
      "2024-02-07 06:45:25,988 I [155] azmlinfsrv.trace - model_data_collection\n",
      "2024-02-07 06:45:25,989 I [155] azmlinfsrv - POST /score 200 180.985ms 56\n",
      "2024-02-07 06:45:25,991 I [155] gunicorn.access - 127.0.0.1 - - [07/Feb/2024:06:45:25 +0000] \"POST /score HTTP/1.0\" 200 56 \"-\" \"python-requests/2.31.0\"\n",
      "2024-02-07 07:08:01,735 W [155] azmlinfsrv - x-ms-request-id header has been deprecated and will be removed from future versions of the server. Please use x-ms-client-request-id.\n",
      "2024-02-07 07:08:01,738 I [155] gunicorn.access - 127.0.0.1 - - [07/Feb/2024:07:08:01 +0000] \"GET / HTTP/1.0\" 200 7 \"-\" \"Go-http-client/1.1\"\n",
      "2024-02-07 07:08:01,743 W [155] azmlinfsrv - x-ms-request-id header has been deprecated and will be removed from future versions of the server. Please use x-ms-client-request-id.\n",
      "2024-02-07 07:08:01,747 I [155] azmlinfsrv - GET /swagger.json 200 3.239ms 2799\n",
      "2024-02-07 07:08:01,748 I [155] gunicorn.access - 127.0.0.1 - - [07/Feb/2024:07:08:01 +0000] \"GET /swagger.json HTTP/1.0\" 200 2799 \"-\" \"Go-http-client/1.1\"\n",
      "2024-02-07 07:13:39,579 W [155] azmlinfsrv - x-ms-request-id header has been deprecated and will be removed from future versions of the server. Please use x-ms-client-request-id.\n",
      "2024-02-07 07:13:39,584 I [155] gunicorn.access - 127.0.0.1 - - [07/Feb/2024:07:13:39 +0000] \"GET / HTTP/1.0\" 200 7 \"-\" \"Go-http-client/1.1\"\n",
      "2024-02-07 07:13:39,595 W [155] azmlinfsrv - x-ms-request-id header has been deprecated and will be removed from future versions of the server. Please use x-ms-client-request-id.\n",
      "2024-02-07 07:13:39,596 I [155] azmlinfsrv - GET /swagger.json 200 1.271ms 2799\n",
      "2024-02-07 07:13:39,598 I [155] gunicorn.access - 127.0.0.1 - - [07/Feb/2024:07:13:39 +0000] \"GET /swagger.json HTTP/1.0\" 200 2799 \"-\" \"Go-http-client/1.1\"\n",
      "2024-02-07 07:13:48,952 W [155] azmlinfsrv - x-ms-request-id header has been deprecated and will be removed from future versions of the server. Please use x-ms-client-request-id.\n",
      "2024-02-07 07:13:48,956 I [155] azmlinfsrv - GET /swagger.json 200 3.425ms 2799\n",
      "2024-02-07 07:13:48,959 I [155] gunicorn.access - 127.0.0.1 - - [07/Feb/2024:07:13:48 +0000] \"GET /swagger.json HTTP/1.0\" 200 2799 \"-\" \"Go-http-client/1.1\"\n",
      "2024-02-07 07:13:49,411 W [155] azmlinfsrv - x-ms-request-id header has been deprecated and will be removed from future versions of the server. Please use x-ms-client-request-id.\n",
      "2024-02-07 07:13:49,412 I [155] azmlinfsrv - GET /swagger.json 200 1.027ms 2799\n",
      "2024-02-07 07:13:49,415 I [155] gunicorn.access - 127.0.0.1 - - [07/Feb/2024:07:13:49 +0000] \"GET /swagger.json HTTP/1.0\" 200 2799 \"-\" \"Go-http-client/1.1\"\n",
      "2024-02-07 07:13:55,048 W [155] azmlinfsrv - x-ms-request-id header has been deprecated and will be removed from future versions of the server. Please use x-ms-client-request-id.\n",
      "2024-02-07 07:13:55,048 I [155] azmlinfsrv - GET /swagger.json 200 0.662ms 2799\n",
      "2024-02-07 07:13:55,050 I [155] gunicorn.access - 127.0.0.1 - - [07/Feb/2024:07:13:55 +0000] \"GET /swagger.json HTTP/1.0\" 200 2799 \"-\" \"Go-http-client/1.1\"\n",
      "2024-02-07 07:14:38,165 W [155] azmlinfsrv - x-ms-request-id header has been deprecated and will be removed from future versions of the server. Please use x-ms-client-request-id.\n",
      "2024-02-07 07:14:38,329 I [155] azmlinfsrv.trace - model_data_collection\n",
      "2024-02-07 07:14:38,331 I [155] azmlinfsrv - POST /score 200 164.921ms 63\n",
      "2024-02-07 07:14:38,333 I [155] gunicorn.access - 127.0.0.1 - - [07/Feb/2024:07:14:38 +0000] \"POST /score HTTP/1.0\" 200 63 \"-\" \"python-requests/2.31.0\"\n",
      "2024-02-07 07:19:30,845 W [155] azmlinfsrv - x-ms-request-id header has been deprecated and will be removed from future versions of the server. Please use x-ms-client-request-id.\n",
      "2024-02-07 07:19:30,847 I [155] azmlinfsrv - GET /swagger.json 200 2.512ms 2799\n",
      "2024-02-07 07:19:30,854 I [155] gunicorn.access - 127.0.0.1 - - [07/Feb/2024:07:19:30 +0000] \"GET /swagger.json HTTP/1.0\" 200 2799 \"-\" \"Go-http-client/1.1\"\n",
      "2024-02-07 07:20:31,203 W [155] azmlinfsrv - x-ms-request-id header has been deprecated and will be removed from future versions of the server. Please use x-ms-client-request-id.\n",
      "2024-02-07 07:20:31,368 I [155] azmlinfsrv.trace - model_data_collection\n",
      "2024-02-07 07:20:31,369 I [155] azmlinfsrv - POST /score 200 165.892ms 91\n",
      "2024-02-07 07:20:31,371 I [155] gunicorn.access - 127.0.0.1 - - [07/Feb/2024:07:20:31 +0000] \"POST /score HTTP/1.0\" 200 91 \"-\" \"python-requests/2.31.0\"\n",
      "\n"
     ]
    }
   ],
   "source": [
    "print(service.get_logs())"
   ]
  },
  {
   "cell_type": "code",
   "execution_count": 20,
   "metadata": {},
   "outputs": [],
   "source": [
    "service.delete()\n",
    "model.delete()\n",
    "compute_target.delete()"
   ]
  },
  {
   "cell_type": "markdown",
   "metadata": {},
   "source": [
    "**Submission Checklist**\n",
    "- I have registered the model.\n",
    "- I have deployed the model with the best accuracy as a webservice.\n",
    "- I have tested the webservice by sending a request to the model endpoint.\n",
    "- I have deleted the webservice and shutdown all the computes that I have used.\n",
    "- I have taken a screenshot showing the model endpoint as active.\n",
    "- The project includes a file containing the environment details.\n"
   ]
  },
  {
   "cell_type": "markdown",
   "metadata": {},
   "source": []
  }
 ],
 "metadata": {
  "kernel_info": {
   "name": "python38-azureml"
  },
  "kernelspec": {
   "display_name": "Python 3.8 - AzureML",
   "language": "python",
   "name": "python38-azureml"
  },
  "language_info": {
   "codemirror_mode": {
    "name": "ipython",
    "version": 3
   },
   "file_extension": ".py",
   "mimetype": "text/x-python",
   "name": "python",
   "nbconvert_exporter": "python",
   "pygments_lexer": "ipython3",
   "version": "3.8.5"
  },
  "microsoft": {
   "host": {
    "AzureML": {
     "notebookHasBeenCompleted": true
    }
   },
   "ms_spell_check": {
    "ms_spell_check_language": "en"
   }
  },
  "nteract": {
   "version": "nteract-front-end@1.0.0"
  }
 },
 "nbformat": 4,
 "nbformat_minor": 4
}
